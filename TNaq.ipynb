{
 "cells": [
  {
   "cell_type": "markdown",
   "metadata": {},
   "source": [
    "# Importing Necessary Packages"
   ]
  },
  {
   "cell_type": "code",
   "execution_count": 1,
   "metadata": {},
   "outputs": [],
   "source": [
    "import numpy as np\n",
    "import pandas as pd\n",
    "import matplotlib.pyplot as plt\n",
    "%matplotlib inline\n",
    "import seaborn as sns\n",
    "import warnings\n",
    "warnings.filterwarnings('ignore')"
   ]
  },
  {
   "cell_type": "markdown",
   "metadata": {},
   "source": [
    "# Loading Data"
   ]
  },
  {
   "cell_type": "code",
   "execution_count": 2,
   "metadata": {
    "scrolled": true
   },
   "outputs": [
    {
     "data": {
      "text/html": [
       "<div>\n",
       "<style scoped>\n",
       "    .dataframe tbody tr th:only-of-type {\n",
       "        vertical-align: middle;\n",
       "    }\n",
       "\n",
       "    .dataframe tbody tr th {\n",
       "        vertical-align: top;\n",
       "    }\n",
       "\n",
       "    .dataframe thead th {\n",
       "        text-align: right;\n",
       "    }\n",
       "</style>\n",
       "<table border=\"1\" class=\"dataframe\">\n",
       "  <thead>\n",
       "    <tr style=\"text-align: right;\">\n",
       "      <th></th>\n",
       "      <th>stn_code</th>\n",
       "      <th>sampling_date</th>\n",
       "      <th>state</th>\n",
       "      <th>location</th>\n",
       "      <th>agency</th>\n",
       "      <th>type</th>\n",
       "      <th>so2</th>\n",
       "      <th>no2</th>\n",
       "      <th>rspm</th>\n",
       "      <th>spm</th>\n",
       "      <th>location_monitoring_station</th>\n",
       "      <th>pm2_5</th>\n",
       "      <th>date</th>\n",
       "    </tr>\n",
       "  </thead>\n",
       "  <tbody>\n",
       "    <tr>\n",
       "      <th>435737</th>\n",
       "      <td>SAMP</td>\n",
       "      <td>24-12-15</td>\n",
       "      <td>West Bengal</td>\n",
       "      <td>ULUBERIA</td>\n",
       "      <td>West Bengal State Pollution Control Board</td>\n",
       "      <td>RIRUO</td>\n",
       "      <td>22.0</td>\n",
       "      <td>50.0</td>\n",
       "      <td>143.0</td>\n",
       "      <td>NaN</td>\n",
       "      <td>Inside Rampal Industries,ULUBERIA</td>\n",
       "      <td>NaN</td>\n",
       "      <td>2015-12-24</td>\n",
       "    </tr>\n",
       "    <tr>\n",
       "      <th>435738</th>\n",
       "      <td>SAMP</td>\n",
       "      <td>29-12-15</td>\n",
       "      <td>West Bengal</td>\n",
       "      <td>ULUBERIA</td>\n",
       "      <td>West Bengal State Pollution Control Board</td>\n",
       "      <td>RIRUO</td>\n",
       "      <td>20.0</td>\n",
       "      <td>46.0</td>\n",
       "      <td>171.0</td>\n",
       "      <td>NaN</td>\n",
       "      <td>Inside Rampal Industries,ULUBERIA</td>\n",
       "      <td>NaN</td>\n",
       "      <td>2015-12-29</td>\n",
       "    </tr>\n",
       "    <tr>\n",
       "      <th>435739</th>\n",
       "      <td>NaN</td>\n",
       "      <td>NaN</td>\n",
       "      <td>andaman-and-nicobar-islands</td>\n",
       "      <td>NaN</td>\n",
       "      <td>NaN</td>\n",
       "      <td>NaN</td>\n",
       "      <td>NaN</td>\n",
       "      <td>NaN</td>\n",
       "      <td>NaN</td>\n",
       "      <td>NaN</td>\n",
       "      <td>NaN</td>\n",
       "      <td>NaN</td>\n",
       "      <td>NaN</td>\n",
       "    </tr>\n",
       "    <tr>\n",
       "      <th>435740</th>\n",
       "      <td>NaN</td>\n",
       "      <td>NaN</td>\n",
       "      <td>Lakshadweep</td>\n",
       "      <td>NaN</td>\n",
       "      <td>NaN</td>\n",
       "      <td>NaN</td>\n",
       "      <td>NaN</td>\n",
       "      <td>NaN</td>\n",
       "      <td>NaN</td>\n",
       "      <td>NaN</td>\n",
       "      <td>NaN</td>\n",
       "      <td>NaN</td>\n",
       "      <td>NaN</td>\n",
       "    </tr>\n",
       "    <tr>\n",
       "      <th>435741</th>\n",
       "      <td>NaN</td>\n",
       "      <td>NaN</td>\n",
       "      <td>Tripura</td>\n",
       "      <td>NaN</td>\n",
       "      <td>NaN</td>\n",
       "      <td>NaN</td>\n",
       "      <td>NaN</td>\n",
       "      <td>NaN</td>\n",
       "      <td>NaN</td>\n",
       "      <td>NaN</td>\n",
       "      <td>NaN</td>\n",
       "      <td>NaN</td>\n",
       "      <td>NaN</td>\n",
       "    </tr>\n",
       "  </tbody>\n",
       "</table>\n",
       "</div>"
      ],
      "text/plain": [
       "       stn_code sampling_date                        state  location  \\\n",
       "435737     SAMP      24-12-15                  West Bengal  ULUBERIA   \n",
       "435738     SAMP      29-12-15                  West Bengal  ULUBERIA   \n",
       "435739      NaN           NaN  andaman-and-nicobar-islands       NaN   \n",
       "435740      NaN           NaN                  Lakshadweep       NaN   \n",
       "435741      NaN           NaN                      Tripura       NaN   \n",
       "\n",
       "                                           agency   type   so2   no2   rspm  \\\n",
       "435737  West Bengal State Pollution Control Board  RIRUO  22.0  50.0  143.0   \n",
       "435738  West Bengal State Pollution Control Board  RIRUO  20.0  46.0  171.0   \n",
       "435739                                        NaN    NaN   NaN   NaN    NaN   \n",
       "435740                                        NaN    NaN   NaN   NaN    NaN   \n",
       "435741                                        NaN    NaN   NaN   NaN    NaN   \n",
       "\n",
       "        spm        location_monitoring_station  pm2_5        date  \n",
       "435737  NaN  Inside Rampal Industries,ULUBERIA    NaN  2015-12-24  \n",
       "435738  NaN  Inside Rampal Industries,ULUBERIA    NaN  2015-12-29  \n",
       "435739  NaN                                NaN    NaN         NaN  \n",
       "435740  NaN                                NaN    NaN         NaN  \n",
       "435741  NaN                                NaN    NaN         NaN  "
      ]
     },
     "execution_count": 2,
     "metadata": {},
     "output_type": "execute_result"
    }
   ],
   "source": [
    "aq = pd.read_csv(\"aqdata.csv\", encoding='cp1252')\n",
    "aq.tail(5)\n",
    "#Date from 1987-2015"
   ]
  },
  {
   "cell_type": "code",
   "execution_count": 3,
   "metadata": {},
   "outputs": [
    {
     "data": {
      "text/plain": [
       "(435742, 13)"
      ]
     },
     "execution_count": 3,
     "metadata": {},
     "output_type": "execute_result"
    }
   ],
   "source": [
    "aq.shape"
   ]
  },
  {
   "cell_type": "code",
   "execution_count": 4,
   "metadata": {
    "scrolled": true
   },
   "outputs": [
    {
     "data": {
      "text/html": [
       "<div>\n",
       "<style scoped>\n",
       "    .dataframe tbody tr th:only-of-type {\n",
       "        vertical-align: middle;\n",
       "    }\n",
       "\n",
       "    .dataframe tbody tr th {\n",
       "        vertical-align: top;\n",
       "    }\n",
       "\n",
       "    .dataframe thead th {\n",
       "        text-align: right;\n",
       "    }\n",
       "</style>\n",
       "<table border=\"1\" class=\"dataframe\">\n",
       "  <thead>\n",
       "    <tr style=\"text-align: right;\">\n",
       "      <th></th>\n",
       "      <th>stn_code</th>\n",
       "      <th>sampling_date</th>\n",
       "      <th>state</th>\n",
       "      <th>location</th>\n",
       "      <th>agency</th>\n",
       "      <th>type</th>\n",
       "      <th>so2</th>\n",
       "      <th>no2</th>\n",
       "      <th>rspm</th>\n",
       "      <th>spm</th>\n",
       "      <th>location_monitoring_station</th>\n",
       "      <th>pm2_5</th>\n",
       "      <th>date</th>\n",
       "    </tr>\n",
       "  </thead>\n",
       "  <tbody>\n",
       "    <tr>\n",
       "      <th>355133</th>\n",
       "      <td>72</td>\n",
       "      <td>27/04/2012</td>\n",
       "      <td>Tamil Nadu</td>\n",
       "      <td>Chennai</td>\n",
       "      <td>Tamilnadu State Pollution Control Board</td>\n",
       "      <td>Industrial Area</td>\n",
       "      <td>14.0</td>\n",
       "      <td>25.0</td>\n",
       "      <td>47.0</td>\n",
       "      <td>NaN</td>\n",
       "      <td>Thiruvottiyur,  Chennai</td>\n",
       "      <td>NaN</td>\n",
       "      <td>2012-04-27</td>\n",
       "    </tr>\n",
       "    <tr>\n",
       "      <th>350607</th>\n",
       "      <td>NaN</td>\n",
       "      <td>15/2/2008</td>\n",
       "      <td>Tamil Nadu</td>\n",
       "      <td>Thoothukudi</td>\n",
       "      <td>NaN</td>\n",
       "      <td>Residential and others</td>\n",
       "      <td>51.5</td>\n",
       "      <td>12.6</td>\n",
       "      <td>37.0</td>\n",
       "      <td>100.0</td>\n",
       "      <td>AVM Jewellery Bldg.</td>\n",
       "      <td>NaN</td>\n",
       "      <td>2008-02-15</td>\n",
       "    </tr>\n",
       "  </tbody>\n",
       "</table>\n",
       "</div>"
      ],
      "text/plain": [
       "       stn_code sampling_date       state     location  \\\n",
       "355133       72    27/04/2012  Tamil Nadu      Chennai   \n",
       "350607      NaN     15/2/2008  Tamil Nadu  Thoothukudi   \n",
       "\n",
       "                                         agency                    type   so2  \\\n",
       "355133  Tamilnadu State Pollution Control Board         Industrial Area  14.0   \n",
       "350607                                      NaN  Residential and others  51.5   \n",
       "\n",
       "         no2  rspm    spm location_monitoring_station  pm2_5        date  \n",
       "355133  25.0  47.0    NaN     Thiruvottiyur,  Chennai    NaN  2012-04-27  \n",
       "350607  12.6  37.0  100.0         AVM Jewellery Bldg.    NaN  2008-02-15  "
      ]
     },
     "execution_count": 4,
     "metadata": {},
     "output_type": "execute_result"
    }
   ],
   "source": [
    "# Extracting Tamil Nadu state data alone\n",
    "tn = aq.query('state==\"Tamil Nadu\" ')\n",
    "tn.sample(2)"
   ]
  },
  {
   "cell_type": "code",
   "execution_count": 5,
   "metadata": {
    "scrolled": true
   },
   "outputs": [
    {
     "data": {
      "text/plain": [
       "(20597, 13)"
      ]
     },
     "execution_count": 5,
     "metadata": {},
     "output_type": "execute_result"
    }
   ],
   "source": [
    "tn.shape"
   ]
  },
  {
   "cell_type": "code",
   "execution_count": 6,
   "metadata": {
    "scrolled": true
   },
   "outputs": [
    {
     "data": {
      "text/html": [
       "<div>\n",
       "<style scoped>\n",
       "    .dataframe tbody tr th:only-of-type {\n",
       "        vertical-align: middle;\n",
       "    }\n",
       "\n",
       "    .dataframe tbody tr th {\n",
       "        vertical-align: top;\n",
       "    }\n",
       "\n",
       "    .dataframe thead th {\n",
       "        text-align: right;\n",
       "    }\n",
       "</style>\n",
       "<table border=\"1\" class=\"dataframe\">\n",
       "  <thead>\n",
       "    <tr style=\"text-align: right;\">\n",
       "      <th></th>\n",
       "      <th>stn_code</th>\n",
       "      <th>sampling_date</th>\n",
       "      <th>state</th>\n",
       "      <th>location</th>\n",
       "      <th>agency</th>\n",
       "      <th>type</th>\n",
       "      <th>so2</th>\n",
       "      <th>no2</th>\n",
       "      <th>rspm</th>\n",
       "      <th>spm</th>\n",
       "      <th>location_monitoring_station</th>\n",
       "      <th>pm2_5</th>\n",
       "      <th>date</th>\n",
       "    </tr>\n",
       "  </thead>\n",
       "  <tbody>\n",
       "    <tr>\n",
       "      <th>count</th>\n",
       "      <td>14539.0</td>\n",
       "      <td>20597</td>\n",
       "      <td>20597</td>\n",
       "      <td>20597</td>\n",
       "      <td>14133</td>\n",
       "      <td>20243</td>\n",
       "      <td>19906.000000</td>\n",
       "      <td>19981.000000</td>\n",
       "      <td>18792.000000</td>\n",
       "      <td>9530.000000</td>\n",
       "      <td>18961</td>\n",
       "      <td>454.000000</td>\n",
       "      <td>20597</td>\n",
       "    </tr>\n",
       "    <tr>\n",
       "      <th>unique</th>\n",
       "      <td>48.0</td>\n",
       "      <td>3559</td>\n",
       "      <td>1</td>\n",
       "      <td>11</td>\n",
       "      <td>4</td>\n",
       "      <td>6</td>\n",
       "      <td>NaN</td>\n",
       "      <td>NaN</td>\n",
       "      <td>NaN</td>\n",
       "      <td>NaN</td>\n",
       "      <td>49</td>\n",
       "      <td>NaN</td>\n",
       "      <td>3559</td>\n",
       "    </tr>\n",
       "    <tr>\n",
       "      <th>top</th>\n",
       "      <td>309.0</td>\n",
       "      <td>28-02-13</td>\n",
       "      <td>Tamil Nadu</td>\n",
       "      <td>Chennai</td>\n",
       "      <td>Tamilnadu State Pollution Control Board</td>\n",
       "      <td>Residential, Rural and other Areas</td>\n",
       "      <td>NaN</td>\n",
       "      <td>NaN</td>\n",
       "      <td>NaN</td>\n",
       "      <td>NaN</td>\n",
       "      <td>Sowdeswari College Building, Salem</td>\n",
       "      <td>NaN</td>\n",
       "      <td>2013-02-28</td>\n",
       "    </tr>\n",
       "    <tr>\n",
       "      <th>freq</th>\n",
       "      <td>811.0</td>\n",
       "      <td>17</td>\n",
       "      <td>20597</td>\n",
       "      <td>6646</td>\n",
       "      <td>11498</td>\n",
       "      <td>9033</td>\n",
       "      <td>NaN</td>\n",
       "      <td>NaN</td>\n",
       "      <td>NaN</td>\n",
       "      <td>NaN</td>\n",
       "      <td>772</td>\n",
       "      <td>NaN</td>\n",
       "      <td>17</td>\n",
       "    </tr>\n",
       "    <tr>\n",
       "      <th>mean</th>\n",
       "      <td>NaN</td>\n",
       "      <td>NaN</td>\n",
       "      <td>NaN</td>\n",
       "      <td>NaN</td>\n",
       "      <td>NaN</td>\n",
       "      <td>NaN</td>\n",
       "      <td>11.315134</td>\n",
       "      <td>21.601202</td>\n",
       "      <td>66.585638</td>\n",
       "      <td>126.729064</td>\n",
       "      <td>NaN</td>\n",
       "      <td>29.550441</td>\n",
       "      <td>NaN</td>\n",
       "    </tr>\n",
       "    <tr>\n",
       "      <th>std</th>\n",
       "      <td>NaN</td>\n",
       "      <td>NaN</td>\n",
       "      <td>NaN</td>\n",
       "      <td>NaN</td>\n",
       "      <td>NaN</td>\n",
       "      <td>NaN</td>\n",
       "      <td>9.790730</td>\n",
       "      <td>11.034707</td>\n",
       "      <td>44.450037</td>\n",
       "      <td>81.060905</td>\n",
       "      <td>NaN</td>\n",
       "      <td>16.783704</td>\n",
       "      <td>NaN</td>\n",
       "    </tr>\n",
       "    <tr>\n",
       "      <th>min</th>\n",
       "      <td>NaN</td>\n",
       "      <td>NaN</td>\n",
       "      <td>NaN</td>\n",
       "      <td>NaN</td>\n",
       "      <td>NaN</td>\n",
       "      <td>NaN</td>\n",
       "      <td>0.000000</td>\n",
       "      <td>0.000000</td>\n",
       "      <td>3.000000</td>\n",
       "      <td>0.000000</td>\n",
       "      <td>NaN</td>\n",
       "      <td>4.000000</td>\n",
       "      <td>NaN</td>\n",
       "    </tr>\n",
       "    <tr>\n",
       "      <th>25%</th>\n",
       "      <td>NaN</td>\n",
       "      <td>NaN</td>\n",
       "      <td>NaN</td>\n",
       "      <td>NaN</td>\n",
       "      <td>NaN</td>\n",
       "      <td>NaN</td>\n",
       "      <td>6.900000</td>\n",
       "      <td>15.300000</td>\n",
       "      <td>39.500000</td>\n",
       "      <td>76.000000</td>\n",
       "      <td>NaN</td>\n",
       "      <td>18.000000</td>\n",
       "      <td>NaN</td>\n",
       "    </tr>\n",
       "    <tr>\n",
       "      <th>50%</th>\n",
       "      <td>NaN</td>\n",
       "      <td>NaN</td>\n",
       "      <td>NaN</td>\n",
       "      <td>NaN</td>\n",
       "      <td>NaN</td>\n",
       "      <td>NaN</td>\n",
       "      <td>10.000000</td>\n",
       "      <td>20.600000</td>\n",
       "      <td>55.000000</td>\n",
       "      <td>108.000000</td>\n",
       "      <td>NaN</td>\n",
       "      <td>25.000000</td>\n",
       "      <td>NaN</td>\n",
       "    </tr>\n",
       "    <tr>\n",
       "      <th>75%</th>\n",
       "      <td>NaN</td>\n",
       "      <td>NaN</td>\n",
       "      <td>NaN</td>\n",
       "      <td>NaN</td>\n",
       "      <td>NaN</td>\n",
       "      <td>NaN</td>\n",
       "      <td>14.000000</td>\n",
       "      <td>25.100000</td>\n",
       "      <td>82.000000</td>\n",
       "      <td>156.875000</td>\n",
       "      <td>NaN</td>\n",
       "      <td>36.000000</td>\n",
       "      <td>NaN</td>\n",
       "    </tr>\n",
       "    <tr>\n",
       "      <th>max</th>\n",
       "      <td>NaN</td>\n",
       "      <td>NaN</td>\n",
       "      <td>NaN</td>\n",
       "      <td>NaN</td>\n",
       "      <td>NaN</td>\n",
       "      <td>NaN</td>\n",
       "      <td>909.000000</td>\n",
       "      <td>315.000000</td>\n",
       "      <td>1183.500000</td>\n",
       "      <td>1682.000000</td>\n",
       "      <td>NaN</td>\n",
       "      <td>141.000000</td>\n",
       "      <td>NaN</td>\n",
       "    </tr>\n",
       "  </tbody>\n",
       "</table>\n",
       "</div>"
      ],
      "text/plain": [
       "        stn_code sampling_date       state location  \\\n",
       "count    14539.0         20597       20597    20597   \n",
       "unique      48.0          3559           1       11   \n",
       "top        309.0      28-02-13  Tamil Nadu  Chennai   \n",
       "freq       811.0            17       20597     6646   \n",
       "mean         NaN           NaN         NaN      NaN   \n",
       "std          NaN           NaN         NaN      NaN   \n",
       "min          NaN           NaN         NaN      NaN   \n",
       "25%          NaN           NaN         NaN      NaN   \n",
       "50%          NaN           NaN         NaN      NaN   \n",
       "75%          NaN           NaN         NaN      NaN   \n",
       "max          NaN           NaN         NaN      NaN   \n",
       "\n",
       "                                         agency  \\\n",
       "count                                     14133   \n",
       "unique                                        4   \n",
       "top     Tamilnadu State Pollution Control Board   \n",
       "freq                                      11498   \n",
       "mean                                        NaN   \n",
       "std                                         NaN   \n",
       "min                                         NaN   \n",
       "25%                                         NaN   \n",
       "50%                                         NaN   \n",
       "75%                                         NaN   \n",
       "max                                         NaN   \n",
       "\n",
       "                                      type           so2           no2  \\\n",
       "count                                20243  19906.000000  19981.000000   \n",
       "unique                                   6           NaN           NaN   \n",
       "top     Residential, Rural and other Areas           NaN           NaN   \n",
       "freq                                  9033           NaN           NaN   \n",
       "mean                                   NaN     11.315134     21.601202   \n",
       "std                                    NaN      9.790730     11.034707   \n",
       "min                                    NaN      0.000000      0.000000   \n",
       "25%                                    NaN      6.900000     15.300000   \n",
       "50%                                    NaN     10.000000     20.600000   \n",
       "75%                                    NaN     14.000000     25.100000   \n",
       "max                                    NaN    909.000000    315.000000   \n",
       "\n",
       "                rspm          spm         location_monitoring_station  \\\n",
       "count   18792.000000  9530.000000                               18961   \n",
       "unique           NaN          NaN                                  49   \n",
       "top              NaN          NaN  Sowdeswari College Building, Salem   \n",
       "freq             NaN          NaN                                 772   \n",
       "mean       66.585638   126.729064                                 NaN   \n",
       "std        44.450037    81.060905                                 NaN   \n",
       "min         3.000000     0.000000                                 NaN   \n",
       "25%        39.500000    76.000000                                 NaN   \n",
       "50%        55.000000   108.000000                                 NaN   \n",
       "75%        82.000000   156.875000                                 NaN   \n",
       "max      1183.500000  1682.000000                                 NaN   \n",
       "\n",
       "             pm2_5        date  \n",
       "count   454.000000       20597  \n",
       "unique         NaN        3559  \n",
       "top            NaN  2013-02-28  \n",
       "freq           NaN          17  \n",
       "mean     29.550441         NaN  \n",
       "std      16.783704         NaN  \n",
       "min       4.000000         NaN  \n",
       "25%      18.000000         NaN  \n",
       "50%      25.000000         NaN  \n",
       "75%      36.000000         NaN  \n",
       "max     141.000000         NaN  "
      ]
     },
     "execution_count": 6,
     "metadata": {},
     "output_type": "execute_result"
    }
   ],
   "source": [
    "tn.describe(include = 'all')"
   ]
  },
  {
   "cell_type": "markdown",
   "metadata": {},
   "source": [
    "# Feature Engineering"
   ]
  },
  {
   "cell_type": "markdown",
   "metadata": {},
   "source": [
    "##### Removing unnecessary datas"
   ]
  },
  {
   "cell_type": "code",
   "execution_count": 7,
   "metadata": {},
   "outputs": [
    {
     "data": {
      "text/html": [
       "<div>\n",
       "<style scoped>\n",
       "    .dataframe tbody tr th:only-of-type {\n",
       "        vertical-align: middle;\n",
       "    }\n",
       "\n",
       "    .dataframe tbody tr th {\n",
       "        vertical-align: top;\n",
       "    }\n",
       "\n",
       "    .dataframe thead th {\n",
       "        text-align: right;\n",
       "    }\n",
       "</style>\n",
       "<table border=\"1\" class=\"dataframe\">\n",
       "  <thead>\n",
       "    <tr style=\"text-align: right;\">\n",
       "      <th></th>\n",
       "      <th>state</th>\n",
       "      <th>location</th>\n",
       "      <th>type</th>\n",
       "      <th>so2</th>\n",
       "      <th>no2</th>\n",
       "      <th>rspm</th>\n",
       "      <th>spm</th>\n",
       "      <th>pm2_5</th>\n",
       "      <th>date</th>\n",
       "    </tr>\n",
       "  </thead>\n",
       "  <tbody>\n",
       "    <tr>\n",
       "      <th>346937</th>\n",
       "      <td>Tamil Nadu</td>\n",
       "      <td>Coimbatore</td>\n",
       "      <td>Industrial Areas</td>\n",
       "      <td>23.8</td>\n",
       "      <td>48.9</td>\n",
       "      <td>99.0</td>\n",
       "      <td>281.0</td>\n",
       "      <td>NaN</td>\n",
       "      <td>2006-01-27</td>\n",
       "    </tr>\n",
       "    <tr>\n",
       "      <th>354100</th>\n",
       "      <td>Tamil Nadu</td>\n",
       "      <td>Coimbatore</td>\n",
       "      <td>Residential, Rural and other Areas</td>\n",
       "      <td>4.0</td>\n",
       "      <td>25.0</td>\n",
       "      <td>52.0</td>\n",
       "      <td>NaN</td>\n",
       "      <td>NaN</td>\n",
       "      <td>2011-12-26</td>\n",
       "    </tr>\n",
       "  </tbody>\n",
       "</table>\n",
       "</div>"
      ],
      "text/plain": [
       "             state    location                                type   so2  \\\n",
       "346937  Tamil Nadu  Coimbatore                    Industrial Areas  23.8   \n",
       "354100  Tamil Nadu  Coimbatore  Residential, Rural and other Areas   4.0   \n",
       "\n",
       "         no2  rspm    spm  pm2_5        date  \n",
       "346937  48.9  99.0  281.0    NaN  2006-01-27  \n",
       "354100  25.0  52.0    NaN    NaN  2011-12-26  "
      ]
     },
     "execution_count": 7,
     "metadata": {},
     "output_type": "execute_result"
    }
   ],
   "source": [
    "tn.drop(labels=['stn_code','sampling_date','agency','location_monitoring_station'], axis = 1, inplace = True)\n",
    "tn.sample(2)"
   ]
  },
  {
   "cell_type": "code",
   "execution_count": 8,
   "metadata": {
    "scrolled": true
   },
   "outputs": [
    {
     "data": {
      "text/plain": [
       "state           0\n",
       "location        0\n",
       "type          354\n",
       "so2           691\n",
       "no2           616\n",
       "rspm         1805\n",
       "spm         11067\n",
       "pm2_5       20143\n",
       "date            0\n",
       "dtype: int64"
      ]
     },
     "execution_count": 8,
     "metadata": {},
     "output_type": "execute_result"
    }
   ],
   "source": [
    "tn.isnull().sum()"
   ]
  },
  {
   "cell_type": "markdown",
   "metadata": {},
   "source": [
    "pm2_5 has  almost 97% data missing. So omitting pm2_5 column"
   ]
  },
  {
   "cell_type": "code",
   "execution_count": 9,
   "metadata": {},
   "outputs": [
    {
     "data": {
      "text/html": [
       "<div>\n",
       "<style scoped>\n",
       "    .dataframe tbody tr th:only-of-type {\n",
       "        vertical-align: middle;\n",
       "    }\n",
       "\n",
       "    .dataframe tbody tr th {\n",
       "        vertical-align: top;\n",
       "    }\n",
       "\n",
       "    .dataframe thead th {\n",
       "        text-align: right;\n",
       "    }\n",
       "</style>\n",
       "<table border=\"1\" class=\"dataframe\">\n",
       "  <thead>\n",
       "    <tr style=\"text-align: right;\">\n",
       "      <th></th>\n",
       "      <th>state</th>\n",
       "      <th>location</th>\n",
       "      <th>type</th>\n",
       "      <th>so2</th>\n",
       "      <th>no2</th>\n",
       "      <th>rspm</th>\n",
       "      <th>spm</th>\n",
       "      <th>date</th>\n",
       "    </tr>\n",
       "  </thead>\n",
       "  <tbody>\n",
       "    <tr>\n",
       "      <th>343639</th>\n",
       "      <td>Tamil Nadu</td>\n",
       "      <td>Madras</td>\n",
       "      <td>Industrial</td>\n",
       "      <td>0.5</td>\n",
       "      <td>0.3</td>\n",
       "      <td>NaN</td>\n",
       "      <td>82.0</td>\n",
       "      <td>1987-01-27</td>\n",
       "    </tr>\n",
       "    <tr>\n",
       "      <th>343640</th>\n",
       "      <td>Tamil Nadu</td>\n",
       "      <td>Madras</td>\n",
       "      <td>Industrial</td>\n",
       "      <td>12.9</td>\n",
       "      <td>1.3</td>\n",
       "      <td>NaN</td>\n",
       "      <td>290.0</td>\n",
       "      <td>1987-04-13</td>\n",
       "    </tr>\n",
       "  </tbody>\n",
       "</table>\n",
       "</div>"
      ],
      "text/plain": [
       "             state location        type   so2  no2  rspm    spm        date\n",
       "343639  Tamil Nadu   Madras  Industrial   0.5  0.3   NaN   82.0  1987-01-27\n",
       "343640  Tamil Nadu   Madras  Industrial  12.9  1.3   NaN  290.0  1987-04-13"
      ]
     },
     "execution_count": 9,
     "metadata": {},
     "output_type": "execute_result"
    }
   ],
   "source": [
    "tn.drop(labels = ['pm2_5'], axis =1, inplace = True)\n",
    "tn.head(2)"
   ]
  },
  {
   "cell_type": "markdown",
   "metadata": {},
   "source": [
    "In order to fill the missing values, the values are first need to be sorted in Chronological order"
   ]
  },
  {
   "cell_type": "code",
   "execution_count": 10,
   "metadata": {},
   "outputs": [
    {
     "data": {
      "text/plain": [
       "state        object\n",
       "location     object\n",
       "type         object\n",
       "so2         float64\n",
       "no2         float64\n",
       "rspm        float64\n",
       "spm         float64\n",
       "date         object\n",
       "dtype: object"
      ]
     },
     "execution_count": 10,
     "metadata": {},
     "output_type": "execute_result"
    }
   ],
   "source": [
    "tn.dtypes"
   ]
  },
  {
   "cell_type": "code",
   "execution_count": 11,
   "metadata": {},
   "outputs": [],
   "source": [
    "# To sort based on dates, the date should be of \"datetime\" datatype. So converting \"object\" data type to \"datetime\" datatype"
   ]
  },
  {
   "cell_type": "code",
   "execution_count": 12,
   "metadata": {},
   "outputs": [
    {
     "name": "stdout",
     "output_type": "stream",
     "text": [
      "<class 'pandas.core.frame.DataFrame'>\n",
      "Int64Index: 20597 entries, 343639 to 364235\n",
      "Data columns (total 8 columns):\n",
      " #   Column    Non-Null Count  Dtype         \n",
      "---  ------    --------------  -----         \n",
      " 0   state     20597 non-null  object        \n",
      " 1   location  20597 non-null  object        \n",
      " 2   type      20243 non-null  object        \n",
      " 3   so2       19906 non-null  float64       \n",
      " 4   no2       19981 non-null  float64       \n",
      " 5   rspm      18792 non-null  float64       \n",
      " 6   spm       9530 non-null   float64       \n",
      " 7   date      20597 non-null  datetime64[ns]\n",
      "dtypes: datetime64[ns](1), float64(4), object(3)\n",
      "memory usage: 1.4+ MB\n"
     ]
    }
   ],
   "source": [
    "tn['date'] = pd.to_datetime(tn.date,format='%Y-%m-%d')\n",
    "tn.info()"
   ]
  },
  {
   "cell_type": "code",
   "execution_count": 13,
   "metadata": {},
   "outputs": [
    {
     "data": {
      "text/html": [
       "<div>\n",
       "<style scoped>\n",
       "    .dataframe tbody tr th:only-of-type {\n",
       "        vertical-align: middle;\n",
       "    }\n",
       "\n",
       "    .dataframe tbody tr th {\n",
       "        vertical-align: top;\n",
       "    }\n",
       "\n",
       "    .dataframe thead th {\n",
       "        text-align: right;\n",
       "    }\n",
       "</style>\n",
       "<table border=\"1\" class=\"dataframe\">\n",
       "  <thead>\n",
       "    <tr style=\"text-align: right;\">\n",
       "      <th></th>\n",
       "      <th>state</th>\n",
       "      <th>location</th>\n",
       "      <th>type</th>\n",
       "      <th>so2</th>\n",
       "      <th>no2</th>\n",
       "      <th>rspm</th>\n",
       "      <th>spm</th>\n",
       "      <th>date</th>\n",
       "    </tr>\n",
       "  </thead>\n",
       "  <tbody>\n",
       "    <tr>\n",
       "      <th>343641</th>\n",
       "      <td>Tamil Nadu</td>\n",
       "      <td>Madras</td>\n",
       "      <td>Industrial</td>\n",
       "      <td>38.8</td>\n",
       "      <td>0.9</td>\n",
       "      <td>NaN</td>\n",
       "      <td>222.0</td>\n",
       "      <td>1987-01-05</td>\n",
       "    </tr>\n",
       "    <tr>\n",
       "      <th>343642</th>\n",
       "      <td>Tamil Nadu</td>\n",
       "      <td>Madras</td>\n",
       "      <td>Industrial</td>\n",
       "      <td>29.7</td>\n",
       "      <td>1.1</td>\n",
       "      <td>NaN</td>\n",
       "      <td>213.0</td>\n",
       "      <td>1987-01-06</td>\n",
       "    </tr>\n",
       "    <tr>\n",
       "      <th>343643</th>\n",
       "      <td>Tamil Nadu</td>\n",
       "      <td>Madras</td>\n",
       "      <td>Industrial</td>\n",
       "      <td>27.5</td>\n",
       "      <td>1.3</td>\n",
       "      <td>NaN</td>\n",
       "      <td>223.0</td>\n",
       "      <td>1987-01-07</td>\n",
       "    </tr>\n",
       "    <tr>\n",
       "      <th>343656</th>\n",
       "      <td>Tamil Nadu</td>\n",
       "      <td>Madras</td>\n",
       "      <td>Residential</td>\n",
       "      <td>4.0</td>\n",
       "      <td>1.0</td>\n",
       "      <td>NaN</td>\n",
       "      <td>116.0</td>\n",
       "      <td>1987-01-12</td>\n",
       "    </tr>\n",
       "    <tr>\n",
       "      <th>343655</th>\n",
       "      <td>Tamil Nadu</td>\n",
       "      <td>Madras</td>\n",
       "      <td>Residential</td>\n",
       "      <td>8.3</td>\n",
       "      <td>0.8</td>\n",
       "      <td>NaN</td>\n",
       "      <td>121.0</td>\n",
       "      <td>1987-01-12</td>\n",
       "    </tr>\n",
       "    <tr>\n",
       "      <th>...</th>\n",
       "      <td>...</td>\n",
       "      <td>...</td>\n",
       "      <td>...</td>\n",
       "      <td>...</td>\n",
       "      <td>...</td>\n",
       "      <td>...</td>\n",
       "      <td>...</td>\n",
       "      <td>...</td>\n",
       "    </tr>\n",
       "    <tr>\n",
       "      <th>363476</th>\n",
       "      <td>Tamil Nadu</td>\n",
       "      <td>Cuddalore</td>\n",
       "      <td>Residential, Rural and other Areas</td>\n",
       "      <td>12.0</td>\n",
       "      <td>18.0</td>\n",
       "      <td>53.0</td>\n",
       "      <td>NaN</td>\n",
       "      <td>2015-12-31</td>\n",
       "    </tr>\n",
       "    <tr>\n",
       "      <th>363989</th>\n",
       "      <td>Tamil Nadu</td>\n",
       "      <td>Chennai</td>\n",
       "      <td>Residential, Rural and other Areas</td>\n",
       "      <td>10.0</td>\n",
       "      <td>14.0</td>\n",
       "      <td>123.0</td>\n",
       "      <td>NaN</td>\n",
       "      <td>2015-12-31</td>\n",
       "    </tr>\n",
       "    <tr>\n",
       "      <th>362831</th>\n",
       "      <td>Tamil Nadu</td>\n",
       "      <td>Madurai</td>\n",
       "      <td>Residential, Rural and other Areas</td>\n",
       "      <td>9.0</td>\n",
       "      <td>23.0</td>\n",
       "      <td>58.0</td>\n",
       "      <td>NaN</td>\n",
       "      <td>2015-12-31</td>\n",
       "    </tr>\n",
       "    <tr>\n",
       "      <th>362605</th>\n",
       "      <td>Tamil Nadu</td>\n",
       "      <td>Coimbatore</td>\n",
       "      <td>Residential, Rural and other Areas</td>\n",
       "      <td>4.0</td>\n",
       "      <td>27.0</td>\n",
       "      <td>88.0</td>\n",
       "      <td>NaN</td>\n",
       "      <td>2015-12-31</td>\n",
       "    </tr>\n",
       "    <tr>\n",
       "      <th>363906</th>\n",
       "      <td>Tamil Nadu</td>\n",
       "      <td>Chennai</td>\n",
       "      <td>Residential, Rural and other Areas</td>\n",
       "      <td>12.0</td>\n",
       "      <td>31.0</td>\n",
       "      <td>234.0</td>\n",
       "      <td>NaN</td>\n",
       "      <td>2015-12-31</td>\n",
       "    </tr>\n",
       "  </tbody>\n",
       "</table>\n",
       "<p>20597 rows × 8 columns</p>\n",
       "</div>"
      ],
      "text/plain": [
       "             state    location                                type   so2  \\\n",
       "343641  Tamil Nadu      Madras                          Industrial  38.8   \n",
       "343642  Tamil Nadu      Madras                          Industrial  29.7   \n",
       "343643  Tamil Nadu      Madras                          Industrial  27.5   \n",
       "343656  Tamil Nadu      Madras                         Residential   4.0   \n",
       "343655  Tamil Nadu      Madras                         Residential   8.3   \n",
       "...            ...         ...                                 ...   ...   \n",
       "363476  Tamil Nadu   Cuddalore  Residential, Rural and other Areas  12.0   \n",
       "363989  Tamil Nadu     Chennai  Residential, Rural and other Areas  10.0   \n",
       "362831  Tamil Nadu     Madurai  Residential, Rural and other Areas   9.0   \n",
       "362605  Tamil Nadu  Coimbatore  Residential, Rural and other Areas   4.0   \n",
       "363906  Tamil Nadu     Chennai  Residential, Rural and other Areas  12.0   \n",
       "\n",
       "         no2   rspm    spm       date  \n",
       "343641   0.9    NaN  222.0 1987-01-05  \n",
       "343642   1.1    NaN  213.0 1987-01-06  \n",
       "343643   1.3    NaN  223.0 1987-01-07  \n",
       "343656   1.0    NaN  116.0 1987-01-12  \n",
       "343655   0.8    NaN  121.0 1987-01-12  \n",
       "...      ...    ...    ...        ...  \n",
       "363476  18.0   53.0    NaN 2015-12-31  \n",
       "363989  14.0  123.0    NaN 2015-12-31  \n",
       "362831  23.0   58.0    NaN 2015-12-31  \n",
       "362605  27.0   88.0    NaN 2015-12-31  \n",
       "363906  31.0  234.0    NaN 2015-12-31  \n",
       "\n",
       "[20597 rows x 8 columns]"
      ]
     },
     "execution_count": 13,
     "metadata": {},
     "output_type": "execute_result"
    }
   ],
   "source": [
    "tn.sort_values(by='date')"
   ]
  },
  {
   "cell_type": "code",
   "execution_count": 14,
   "metadata": {},
   "outputs": [],
   "source": [
    "tn['so2'].fillna(method='ffill',inplace = True);\n",
    "tn['no2'].fillna(method='ffill',inplace = True);\n",
    "tn['rspm'].fillna(method='ffill',inplace = True);\n",
    "tn['spm'].fillna(method='ffill',inplace = True);"
   ]
  },
  {
   "cell_type": "code",
   "execution_count": 15,
   "metadata": {},
   "outputs": [
    {
     "data": {
      "text/plain": [
       "state          0\n",
       "location       0\n",
       "type         354\n",
       "so2            0\n",
       "no2            0\n",
       "rspm        1636\n",
       "spm            0\n",
       "date           0\n",
       "dtype: int64"
      ]
     },
     "execution_count": 15,
     "metadata": {},
     "output_type": "execute_result"
    }
   ],
   "source": [
    "tn.isnull().sum()"
   ]
  },
  {
   "cell_type": "code",
   "execution_count": 16,
   "metadata": {},
   "outputs": [
    {
     "data": {
      "text/html": [
       "<div>\n",
       "<style scoped>\n",
       "    .dataframe tbody tr th:only-of-type {\n",
       "        vertical-align: middle;\n",
       "    }\n",
       "\n",
       "    .dataframe tbody tr th {\n",
       "        vertical-align: top;\n",
       "    }\n",
       "\n",
       "    .dataframe thead th {\n",
       "        text-align: right;\n",
       "    }\n",
       "</style>\n",
       "<table border=\"1\" class=\"dataframe\">\n",
       "  <thead>\n",
       "    <tr style=\"text-align: right;\">\n",
       "      <th></th>\n",
       "      <th>state</th>\n",
       "      <th>location</th>\n",
       "      <th>type</th>\n",
       "      <th>so2</th>\n",
       "      <th>no2</th>\n",
       "      <th>rspm</th>\n",
       "      <th>spm</th>\n",
       "      <th>date</th>\n",
       "    </tr>\n",
       "  </thead>\n",
       "  <tbody>\n",
       "    <tr>\n",
       "      <th>345273</th>\n",
       "      <td>Tamil Nadu</td>\n",
       "      <td>Madurai</td>\n",
       "      <td>Industrial Area</td>\n",
       "      <td>8.3</td>\n",
       "      <td>19.6</td>\n",
       "      <td>NaN</td>\n",
       "      <td>33.0</td>\n",
       "      <td>2002-11-01</td>\n",
       "    </tr>\n",
       "  </tbody>\n",
       "</table>\n",
       "</div>"
      ],
      "text/plain": [
       "             state location             type  so2   no2  rspm   spm       date\n",
       "345273  Tamil Nadu  Madurai  Industrial Area  8.3  19.6   NaN  33.0 2002-11-01"
      ]
     },
     "execution_count": 16,
     "metadata": {},
     "output_type": "execute_result"
    }
   ],
   "source": [
    "tn.iloc[[1634]]"
   ]
  },
  {
   "cell_type": "code",
   "execution_count": 17,
   "metadata": {
    "scrolled": true
   },
   "outputs": [
    {
     "name": "stdout",
     "output_type": "stream",
     "text": [
      "             state location             type  so2   no2  rspm   spm       date\n",
      "345273  Tamil Nadu  Madurai  Industrial Area  8.3  19.6   NaN  33.0 2002-11-01              state location             type   so2   no2  rspm   spm  \\\n",
      "345274  Tamil Nadu  Madurai  Industrial Area  10.7  29.6   NaN  63.0   \n",
      "\n",
      "             date  \n",
      "345274 2002-12-01                state location                                type  so2    no2  \\\n",
      "345275  Tamil Nadu  Chennai  Residential, Rural and other Areas  6.0  12.75   \n",
      "\n",
      "         rspm     spm       date  \n",
      "345275  56.33  101.33 2004-02-01                state location                                type  so2    no2  \\\n",
      "345275  Tamil Nadu  Chennai  Residential, Rural and other Areas  6.0  12.75   \n",
      "\n",
      "         rspm     spm       date  \n",
      "345275  56.33  101.33 2004-02-01  \n"
     ]
    }
   ],
   "source": [
    "# Even after replacement, we have 1636 missing values in rspm\n",
    "print(tn.iloc[[1634]],tn.iloc[[1635]],tn.iloc[[1636]],tn.iloc[[1636]])"
   ]
  },
  {
   "cell_type": "code",
   "execution_count": 18,
   "metadata": {},
   "outputs": [],
   "source": [
    "# This means rspm has not been calculated till 2002. It has been measured only from 2004 onwards.\n",
    "# We can either omit it or seperate the data set into two. That is before 2004 and after 2004.\n",
    "# Here for simplicity, I am deleting the column of rspm"
   ]
  },
  {
   "cell_type": "code",
   "execution_count": 19,
   "metadata": {},
   "outputs": [
    {
     "data": {
      "text/html": [
       "<div>\n",
       "<style scoped>\n",
       "    .dataframe tbody tr th:only-of-type {\n",
       "        vertical-align: middle;\n",
       "    }\n",
       "\n",
       "    .dataframe tbody tr th {\n",
       "        vertical-align: top;\n",
       "    }\n",
       "\n",
       "    .dataframe thead th {\n",
       "        text-align: right;\n",
       "    }\n",
       "</style>\n",
       "<table border=\"1\" class=\"dataframe\">\n",
       "  <thead>\n",
       "    <tr style=\"text-align: right;\">\n",
       "      <th></th>\n",
       "      <th>state</th>\n",
       "      <th>location</th>\n",
       "      <th>type</th>\n",
       "      <th>so2</th>\n",
       "      <th>no2</th>\n",
       "      <th>spm</th>\n",
       "      <th>date</th>\n",
       "    </tr>\n",
       "  </thead>\n",
       "  <tbody>\n",
       "    <tr>\n",
       "      <th>343639</th>\n",
       "      <td>Tamil Nadu</td>\n",
       "      <td>Madras</td>\n",
       "      <td>Industrial</td>\n",
       "      <td>0.5</td>\n",
       "      <td>0.3</td>\n",
       "      <td>82.0</td>\n",
       "      <td>1987-01-27</td>\n",
       "    </tr>\n",
       "    <tr>\n",
       "      <th>343640</th>\n",
       "      <td>Tamil Nadu</td>\n",
       "      <td>Madras</td>\n",
       "      <td>Industrial</td>\n",
       "      <td>12.9</td>\n",
       "      <td>1.3</td>\n",
       "      <td>290.0</td>\n",
       "      <td>1987-04-13</td>\n",
       "    </tr>\n",
       "    <tr>\n",
       "      <th>343641</th>\n",
       "      <td>Tamil Nadu</td>\n",
       "      <td>Madras</td>\n",
       "      <td>Industrial</td>\n",
       "      <td>38.8</td>\n",
       "      <td>0.9</td>\n",
       "      <td>222.0</td>\n",
       "      <td>1987-01-05</td>\n",
       "    </tr>\n",
       "    <tr>\n",
       "      <th>343642</th>\n",
       "      <td>Tamil Nadu</td>\n",
       "      <td>Madras</td>\n",
       "      <td>Industrial</td>\n",
       "      <td>29.7</td>\n",
       "      <td>1.1</td>\n",
       "      <td>213.0</td>\n",
       "      <td>1987-01-06</td>\n",
       "    </tr>\n",
       "    <tr>\n",
       "      <th>343643</th>\n",
       "      <td>Tamil Nadu</td>\n",
       "      <td>Madras</td>\n",
       "      <td>Industrial</td>\n",
       "      <td>27.5</td>\n",
       "      <td>1.3</td>\n",
       "      <td>223.0</td>\n",
       "      <td>1987-01-07</td>\n",
       "    </tr>\n",
       "  </tbody>\n",
       "</table>\n",
       "</div>"
      ],
      "text/plain": [
       "             state location        type   so2  no2    spm       date\n",
       "343639  Tamil Nadu   Madras  Industrial   0.5  0.3   82.0 1987-01-27\n",
       "343640  Tamil Nadu   Madras  Industrial  12.9  1.3  290.0 1987-04-13\n",
       "343641  Tamil Nadu   Madras  Industrial  38.8  0.9  222.0 1987-01-05\n",
       "343642  Tamil Nadu   Madras  Industrial  29.7  1.1  213.0 1987-01-06\n",
       "343643  Tamil Nadu   Madras  Industrial  27.5  1.3  223.0 1987-01-07"
      ]
     },
     "execution_count": 19,
     "metadata": {},
     "output_type": "execute_result"
    }
   ],
   "source": [
    "tn.drop(labels = ['rspm'], axis = 1, inplace = True)\n",
    "tn.head()"
   ]
  },
  {
   "cell_type": "code",
   "execution_count": 20,
   "metadata": {},
   "outputs": [
    {
     "data": {
      "text/plain": [
       "state         0\n",
       "location      0\n",
       "type        354\n",
       "so2           0\n",
       "no2           0\n",
       "spm           0\n",
       "date          0\n",
       "dtype: int64"
      ]
     },
     "execution_count": 20,
     "metadata": {},
     "output_type": "execute_result"
    }
   ],
   "source": [
    "tn.isnull().sum()"
   ]
  },
  {
   "cell_type": "code",
   "execution_count": 21,
   "metadata": {},
   "outputs": [],
   "source": [
    "# Dealing with 354 missing values of type"
   ]
  },
  {
   "cell_type": "code",
   "execution_count": 22,
   "metadata": {},
   "outputs": [
    {
     "data": {
      "text/plain": [
       "[Text(0, 0, 'Industrial'),\n",
       " Text(1, 0, 'Residential'),\n",
       " Text(2, 0, 'Industrial Area'),\n",
       " Text(3, 0, 'Residential, Rural and other Areas'),\n",
       " Text(4, 0, 'Industrial Areas'),\n",
       " Text(5, 0, 'Residential and others')]"
      ]
     },
     "execution_count": 22,
     "metadata": {},
     "output_type": "execute_result"
    },
    {
     "data": {
      "image/png": "[encoded data removed]",
      "text/plain": [
       "<Figure size 432x288 with 1 Axes>"
      ]
     },
     "metadata": {
      "needs_background": "light"
     },
     "output_type": "display_data"
    }
   ],
   "source": [
    "typ=sns.countplot(x =\"type\",data = tn)\n",
    "typ.set_xticklabels(typ.get_xticklabels(), rotation=90)"
   ]
  },
  {
   "cell_type": "markdown",
   "metadata": {},
   "source": [
    "Here we have repetition of types, so replacing all to unique types"
   ]
  },
  {
   "cell_type": "code",
   "execution_count": 23,
   "metadata": {},
   "outputs": [],
   "source": [
    "tn['type'].replace(\"Industrial Areas\",\"Industrial\",inplace=True)\n",
    "tn['type'].replace(\"Industrial Area\",\"Industrial\",inplace=True)\n",
    "tn['type'].replace(\"Residential and others\",\"Residential\",inplace=True)\n",
    "tn['type'].replace(\"Residential, Rural and other Areas\",\"Residential\",inplace=True)"
   ]
  },
  {
   "cell_type": "code",
   "execution_count": 24,
   "metadata": {
    "scrolled": false
   },
   "outputs": [
    {
     "data": {
      "text/plain": [
       "[Text(0, 0, 'Industrial'), Text(1, 0, 'Residential')]"
      ]
     },
     "execution_count": 24,
     "metadata": {},
     "output_type": "execute_result"
    },
    {
     "data": {
      "image/png": "[encoded data removed]",
      "text/plain": [
       "<Figure size 432x288 with 1 Axes>"
      ]
     },
     "metadata": {
      "needs_background": "light"
     },
     "output_type": "display_data"
    }
   ],
   "source": [
    "typ=sns.countplot(x =\"type\",data = tn)\n",
    "typ.set_xticklabels(typ.get_xticklabels(), rotation=90)"
   ]
  },
  {
   "cell_type": "code",
   "execution_count": 25,
   "metadata": {},
   "outputs": [
    {
     "data": {
      "image/png": "[encoded data removed]",
      "text/plain": [
       "<Figure size 432x288 with 1 Axes>"
      ]
     },
     "metadata": {
      "needs_background": "light"
     },
     "output_type": "display_data"
    }
   ],
   "source": [
    "datacount_ty =sns.countplot(x =\"location\",hue = 'type',data = tn);\n",
    "datacount_ty.set_xticklabels(datacount_ty.get_xticklabels(), rotation=90);"
   ]
  },
  {
   "cell_type": "code",
   "execution_count": 26,
   "metadata": {},
   "outputs": [
    {
     "data": {
      "text/html": [
       "<div>\n",
       "<style scoped>\n",
       "    .dataframe tbody tr th:only-of-type {\n",
       "        vertical-align: middle;\n",
       "    }\n",
       "\n",
       "    .dataframe tbody tr th {\n",
       "        vertical-align: top;\n",
       "    }\n",
       "\n",
       "    .dataframe thead th {\n",
       "        text-align: right;\n",
       "    }\n",
       "</style>\n",
       "<table border=\"1\" class=\"dataframe\">\n",
       "  <thead>\n",
       "    <tr style=\"text-align: right;\">\n",
       "      <th></th>\n",
       "      <th>state</th>\n",
       "      <th>location</th>\n",
       "      <th>type</th>\n",
       "      <th>so2</th>\n",
       "      <th>no2</th>\n",
       "      <th>spm</th>\n",
       "      <th>date</th>\n",
       "    </tr>\n",
       "  </thead>\n",
       "  <tbody>\n",
       "    <tr>\n",
       "      <th>343962</th>\n",
       "      <td>Tamil Nadu</td>\n",
       "      <td>Tuticorin</td>\n",
       "      <td>NaN</td>\n",
       "      <td>10.2</td>\n",
       "      <td>16.7</td>\n",
       "      <td>194.0</td>\n",
       "      <td>1991-09-01</td>\n",
       "    </tr>\n",
       "    <tr>\n",
       "      <th>343984</th>\n",
       "      <td>Tamil Nadu</td>\n",
       "      <td>Tuticorin</td>\n",
       "      <td>NaN</td>\n",
       "      <td>7.2</td>\n",
       "      <td>16.4</td>\n",
       "      <td>82.0</td>\n",
       "      <td>1991-12-01</td>\n",
       "    </tr>\n",
       "    <tr>\n",
       "      <th>343985</th>\n",
       "      <td>Tamil Nadu</td>\n",
       "      <td>Tuticorin</td>\n",
       "      <td>NaN</td>\n",
       "      <td>8.2</td>\n",
       "      <td>5.4</td>\n",
       "      <td>47.0</td>\n",
       "      <td>1991-12-01</td>\n",
       "    </tr>\n",
       "    <tr>\n",
       "      <th>343986</th>\n",
       "      <td>Tamil Nadu</td>\n",
       "      <td>Tuticorin</td>\n",
       "      <td>NaN</td>\n",
       "      <td>8.0</td>\n",
       "      <td>12.4</td>\n",
       "      <td>44.0</td>\n",
       "      <td>1991-12-01</td>\n",
       "    </tr>\n",
       "    <tr>\n",
       "      <th>344142</th>\n",
       "      <td>Tamil Nadu</td>\n",
       "      <td>Tuticorin</td>\n",
       "      <td>NaN</td>\n",
       "      <td>3.7</td>\n",
       "      <td>17.8</td>\n",
       "      <td>80.0</td>\n",
       "      <td>1994-09-01</td>\n",
       "    </tr>\n",
       "    <tr>\n",
       "      <th>344143</th>\n",
       "      <td>Tamil Nadu</td>\n",
       "      <td>Tuticorin</td>\n",
       "      <td>NaN</td>\n",
       "      <td>6.4</td>\n",
       "      <td>20.9</td>\n",
       "      <td>68.0</td>\n",
       "      <td>1994-09-01</td>\n",
       "    </tr>\n",
       "    <tr>\n",
       "      <th>344147</th>\n",
       "      <td>Tamil Nadu</td>\n",
       "      <td>Tuticorin</td>\n",
       "      <td>NaN</td>\n",
       "      <td>3.7</td>\n",
       "      <td>17.8</td>\n",
       "      <td>80.0</td>\n",
       "      <td>1994-09-01</td>\n",
       "    </tr>\n",
       "    <tr>\n",
       "      <th>344148</th>\n",
       "      <td>Tamil Nadu</td>\n",
       "      <td>Tuticorin</td>\n",
       "      <td>NaN</td>\n",
       "      <td>6.4</td>\n",
       "      <td>20.9</td>\n",
       "      <td>68.0</td>\n",
       "      <td>1994-09-01</td>\n",
       "    </tr>\n",
       "    <tr>\n",
       "      <th>344155</th>\n",
       "      <td>Tamil Nadu</td>\n",
       "      <td>Coimbatore</td>\n",
       "      <td>NaN</td>\n",
       "      <td>6.0</td>\n",
       "      <td>16.0</td>\n",
       "      <td>55.0</td>\n",
       "      <td>1995-01-01</td>\n",
       "    </tr>\n",
       "    <tr>\n",
       "      <th>344156</th>\n",
       "      <td>Tamil Nadu</td>\n",
       "      <td>Coimbatore</td>\n",
       "      <td>NaN</td>\n",
       "      <td>0.9</td>\n",
       "      <td>9.2</td>\n",
       "      <td>44.0</td>\n",
       "      <td>1995-03-01</td>\n",
       "    </tr>\n",
       "    <tr>\n",
       "      <th>344157</th>\n",
       "      <td>Tamil Nadu</td>\n",
       "      <td>Coimbatore</td>\n",
       "      <td>NaN</td>\n",
       "      <td>5.1</td>\n",
       "      <td>15.8</td>\n",
       "      <td>78.0</td>\n",
       "      <td>1995-02-01</td>\n",
       "    </tr>\n",
       "    <tr>\n",
       "      <th>344158</th>\n",
       "      <td>Tamil Nadu</td>\n",
       "      <td>Coimbatore</td>\n",
       "      <td>NaN</td>\n",
       "      <td>3.9</td>\n",
       "      <td>13.5</td>\n",
       "      <td>71.0</td>\n",
       "      <td>1995-03-01</td>\n",
       "    </tr>\n",
       "    <tr>\n",
       "      <th>344159</th>\n",
       "      <td>Tamil Nadu</td>\n",
       "      <td>Coimbatore</td>\n",
       "      <td>NaN</td>\n",
       "      <td>2.3</td>\n",
       "      <td>9.1</td>\n",
       "      <td>56.0</td>\n",
       "      <td>1995-04-01</td>\n",
       "    </tr>\n",
       "    <tr>\n",
       "      <th>344160</th>\n",
       "      <td>Tamil Nadu</td>\n",
       "      <td>Coimbatore</td>\n",
       "      <td>NaN</td>\n",
       "      <td>2.2</td>\n",
       "      <td>5.5</td>\n",
       "      <td>42.0</td>\n",
       "      <td>1995-05-01</td>\n",
       "    </tr>\n",
       "    <tr>\n",
       "      <th>344161</th>\n",
       "      <td>Tamil Nadu</td>\n",
       "      <td>Coimbatore</td>\n",
       "      <td>NaN</td>\n",
       "      <td>1.4</td>\n",
       "      <td>4.9</td>\n",
       "      <td>31.0</td>\n",
       "      <td>1995-06-01</td>\n",
       "    </tr>\n",
       "    <tr>\n",
       "      <th>344162</th>\n",
       "      <td>Tamil Nadu</td>\n",
       "      <td>Coimbatore</td>\n",
       "      <td>NaN</td>\n",
       "      <td>2.3</td>\n",
       "      <td>6.9</td>\n",
       "      <td>29.0</td>\n",
       "      <td>1995-07-01</td>\n",
       "    </tr>\n",
       "    <tr>\n",
       "      <th>344163</th>\n",
       "      <td>Tamil Nadu</td>\n",
       "      <td>Coimbatore</td>\n",
       "      <td>NaN</td>\n",
       "      <td>3.7</td>\n",
       "      <td>8.4</td>\n",
       "      <td>51.0</td>\n",
       "      <td>1995-08-01</td>\n",
       "    </tr>\n",
       "    <tr>\n",
       "      <th>344164</th>\n",
       "      <td>Tamil Nadu</td>\n",
       "      <td>Coimbatore</td>\n",
       "      <td>NaN</td>\n",
       "      <td>2.3</td>\n",
       "      <td>5.3</td>\n",
       "      <td>40.0</td>\n",
       "      <td>1995-09-01</td>\n",
       "    </tr>\n",
       "    <tr>\n",
       "      <th>344165</th>\n",
       "      <td>Tamil Nadu</td>\n",
       "      <td>Coimbatore</td>\n",
       "      <td>NaN</td>\n",
       "      <td>3.1</td>\n",
       "      <td>5.9</td>\n",
       "      <td>33.0</td>\n",
       "      <td>1995-10-01</td>\n",
       "    </tr>\n",
       "    <tr>\n",
       "      <th>344166</th>\n",
       "      <td>Tamil Nadu</td>\n",
       "      <td>Coimbatore</td>\n",
       "      <td>NaN</td>\n",
       "      <td>5.1</td>\n",
       "      <td>6.5</td>\n",
       "      <td>41.0</td>\n",
       "      <td>1995-11-01</td>\n",
       "    </tr>\n",
       "  </tbody>\n",
       "</table>\n",
       "</div>"
      ],
      "text/plain": [
       "             state    location type   so2   no2    spm       date\n",
       "343962  Tamil Nadu   Tuticorin  NaN  10.2  16.7  194.0 1991-09-01\n",
       "343984  Tamil Nadu   Tuticorin  NaN   7.2  16.4   82.0 1991-12-01\n",
       "343985  Tamil Nadu   Tuticorin  NaN   8.2   5.4   47.0 1991-12-01\n",
       "343986  Tamil Nadu   Tuticorin  NaN   8.0  12.4   44.0 1991-12-01\n",
       "344142  Tamil Nadu   Tuticorin  NaN   3.7  17.8   80.0 1994-09-01\n",
       "344143  Tamil Nadu   Tuticorin  NaN   6.4  20.9   68.0 1994-09-01\n",
       "344147  Tamil Nadu   Tuticorin  NaN   3.7  17.8   80.0 1994-09-01\n",
       "344148  Tamil Nadu   Tuticorin  NaN   6.4  20.9   68.0 1994-09-01\n",
       "344155  Tamil Nadu  Coimbatore  NaN   6.0  16.0   55.0 1995-01-01\n",
       "344156  Tamil Nadu  Coimbatore  NaN   0.9   9.2   44.0 1995-03-01\n",
       "344157  Tamil Nadu  Coimbatore  NaN   5.1  15.8   78.0 1995-02-01\n",
       "344158  Tamil Nadu  Coimbatore  NaN   3.9  13.5   71.0 1995-03-01\n",
       "344159  Tamil Nadu  Coimbatore  NaN   2.3   9.1   56.0 1995-04-01\n",
       "344160  Tamil Nadu  Coimbatore  NaN   2.2   5.5   42.0 1995-05-01\n",
       "344161  Tamil Nadu  Coimbatore  NaN   1.4   4.9   31.0 1995-06-01\n",
       "344162  Tamil Nadu  Coimbatore  NaN   2.3   6.9   29.0 1995-07-01\n",
       "344163  Tamil Nadu  Coimbatore  NaN   3.7   8.4   51.0 1995-08-01\n",
       "344164  Tamil Nadu  Coimbatore  NaN   2.3   5.3   40.0 1995-09-01\n",
       "344165  Tamil Nadu  Coimbatore  NaN   3.1   5.9   33.0 1995-10-01\n",
       "344166  Tamil Nadu  Coimbatore  NaN   5.1   6.5   41.0 1995-11-01"
      ]
     },
     "execution_count": 26,
     "metadata": {},
     "output_type": "execute_result"
    }
   ],
   "source": [
    "# Rows with missing \"types\"\n",
    "null_data = tn[tn.isnull().any(axis=1)]\n",
    "null_data.head(20)"
   ]
  },
  {
   "cell_type": "markdown",
   "metadata": {},
   "source": [
    "Mode is higher for residential. So filling the missing 354 values in type by \"Residential\" type"
   ]
  },
  {
   "cell_type": "code",
   "execution_count": 27,
   "metadata": {},
   "outputs": [],
   "source": [
    "# Converting NaN to zeros\n",
    "#df['DataFrame Column'] = df['DataFrame Column'].replace(np.nan, 0)\n",
    "tn['type'] = tn['type'].replace(np.nan, \"Residential\")"
   ]
  },
  {
   "cell_type": "code",
   "execution_count": 28,
   "metadata": {},
   "outputs": [
    {
     "data": {
      "text/plain": [
       "state       0\n",
       "location    0\n",
       "type        0\n",
       "so2         0\n",
       "no2         0\n",
       "spm         0\n",
       "date        0\n",
       "dtype: int64"
      ]
     },
     "execution_count": 28,
     "metadata": {},
     "output_type": "execute_result"
    }
   ],
   "source": [
    "tn.isnull().sum()"
   ]
  },
  {
   "cell_type": "code",
   "execution_count": 29,
   "metadata": {},
   "outputs": [],
   "source": [
    "#Finding hidden missing values. (i.e. zeros)"
   ]
  },
  {
   "cell_type": "code",
   "execution_count": 30,
   "metadata": {
    "scrolled": true
   },
   "outputs": [
    {
     "name": "stdout",
     "output_type": "stream",
     "text": [
      "state        0\n",
      "location     0\n",
      "type         0\n",
      "so2         16\n",
      "no2          1\n",
      "spm         66\n",
      "date         0\n",
      "dtype: int64\n"
     ]
    }
   ],
   "source": [
    "aaa = (tn == 0).astype(int).sum(axis=0)\n",
    "print(aaa)"
   ]
  },
  {
   "cell_type": "code",
   "execution_count": 31,
   "metadata": {},
   "outputs": [],
   "source": [
    "# Also we can see the \"locations\" repeated.\n",
    "# Madras - Chennai, # Turicorin-Tuticorin\n",
    "# Replacing them into single value"
   ]
  },
  {
   "cell_type": "code",
   "execution_count": 32,
   "metadata": {},
   "outputs": [],
   "source": [
    "tn['location'].replace(\"Turicorin\",\"Tuticorin\",inplace=True)\n",
    "tn['location'].replace(\"Madras\",\"Chennai\",inplace=True)"
   ]
  },
  {
   "cell_type": "code",
   "execution_count": 33,
   "metadata": {},
   "outputs": [
    {
     "data": {
      "image/png": "[encoded data removed]",
      "text/plain": [
       "<Figure size 432x288 with 1 Axes>"
      ]
     },
     "metadata": {
      "needs_background": "light"
     },
     "output_type": "display_data"
    }
   ],
   "source": [
    "datacount_ty =sns.countplot(x =\"location\",hue = 'type',data = tn);\n",
    "datacount_ty.set_xticklabels(datacount_ty.get_xticklabels(), rotation=90);"
   ]
  },
  {
   "cell_type": "code",
   "execution_count": 34,
   "metadata": {},
   "outputs": [
    {
     "data": {
      "text/html": [
       "<div>\n",
       "<style scoped>\n",
       "    .dataframe tbody tr th:only-of-type {\n",
       "        vertical-align: middle;\n",
       "    }\n",
       "\n",
       "    .dataframe tbody tr th {\n",
       "        vertical-align: top;\n",
       "    }\n",
       "\n",
       "    .dataframe thead th {\n",
       "        text-align: right;\n",
       "    }\n",
       "</style>\n",
       "<table border=\"1\" class=\"dataframe\">\n",
       "  <thead>\n",
       "    <tr style=\"text-align: right;\">\n",
       "      <th></th>\n",
       "      <th>state</th>\n",
       "      <th>location</th>\n",
       "      <th>type</th>\n",
       "      <th>so2</th>\n",
       "      <th>no2</th>\n",
       "      <th>spm</th>\n",
       "      <th>date</th>\n",
       "    </tr>\n",
       "  </thead>\n",
       "  <tbody>\n",
       "    <tr>\n",
       "      <th>343639</th>\n",
       "      <td>Tamil Nadu</td>\n",
       "      <td>Chennai</td>\n",
       "      <td>Industrial</td>\n",
       "      <td>0.5</td>\n",
       "      <td>0.3</td>\n",
       "      <td>82.0</td>\n",
       "      <td>1987-01-27</td>\n",
       "    </tr>\n",
       "    <tr>\n",
       "      <th>343640</th>\n",
       "      <td>Tamil Nadu</td>\n",
       "      <td>Chennai</td>\n",
       "      <td>Industrial</td>\n",
       "      <td>12.9</td>\n",
       "      <td>1.3</td>\n",
       "      <td>290.0</td>\n",
       "      <td>1987-04-13</td>\n",
       "    </tr>\n",
       "    <tr>\n",
       "      <th>343641</th>\n",
       "      <td>Tamil Nadu</td>\n",
       "      <td>Chennai</td>\n",
       "      <td>Industrial</td>\n",
       "      <td>38.8</td>\n",
       "      <td>0.9</td>\n",
       "      <td>222.0</td>\n",
       "      <td>1987-01-05</td>\n",
       "    </tr>\n",
       "    <tr>\n",
       "      <th>343642</th>\n",
       "      <td>Tamil Nadu</td>\n",
       "      <td>Chennai</td>\n",
       "      <td>Industrial</td>\n",
       "      <td>29.7</td>\n",
       "      <td>1.1</td>\n",
       "      <td>213.0</td>\n",
       "      <td>1987-01-06</td>\n",
       "    </tr>\n",
       "    <tr>\n",
       "      <th>343643</th>\n",
       "      <td>Tamil Nadu</td>\n",
       "      <td>Chennai</td>\n",
       "      <td>Industrial</td>\n",
       "      <td>27.5</td>\n",
       "      <td>1.3</td>\n",
       "      <td>223.0</td>\n",
       "      <td>1987-01-07</td>\n",
       "    </tr>\n",
       "  </tbody>\n",
       "</table>\n",
       "</div>"
      ],
      "text/plain": [
       "             state location        type   so2  no2    spm       date\n",
       "343639  Tamil Nadu  Chennai  Industrial   0.5  0.3   82.0 1987-01-27\n",
       "343640  Tamil Nadu  Chennai  Industrial  12.9  1.3  290.0 1987-04-13\n",
       "343641  Tamil Nadu  Chennai  Industrial  38.8  0.9  222.0 1987-01-05\n",
       "343642  Tamil Nadu  Chennai  Industrial  29.7  1.1  213.0 1987-01-06\n",
       "343643  Tamil Nadu  Chennai  Industrial  27.5  1.3  223.0 1987-01-07"
      ]
     },
     "execution_count": 34,
     "metadata": {},
     "output_type": "execute_result"
    }
   ],
   "source": [
    "tn.head()"
   ]
  },
  {
   "cell_type": "markdown",
   "metadata": {},
   "source": [
    "# Data Visualization"
   ]
  },
  {
   "cell_type": "code",
   "execution_count": 35,
   "metadata": {
    "scrolled": true
   },
   "outputs": [
    {
     "data": {
      "image/png": "[encoded data removed]",
      "text/plain": [
       "<Figure size 432x288 with 1 Axes>"
      ]
     },
     "metadata": {
      "needs_background": "light"
     },
     "output_type": "display_data"
    }
   ],
   "source": [
    "datacount =sns.countplot(x =\"location\",data = tn);\n",
    "datacount.set_xticklabels(datacount.get_xticklabels(), rotation=90);"
   ]
  },
  {
   "cell_type": "code",
   "execution_count": 36,
   "metadata": {},
   "outputs": [
    {
     "data": {
      "text/html": [
       "<div>\n",
       "<style scoped>\n",
       "    .dataframe tbody tr th:only-of-type {\n",
       "        vertical-align: middle;\n",
       "    }\n",
       "\n",
       "    .dataframe tbody tr th {\n",
       "        vertical-align: top;\n",
       "    }\n",
       "\n",
       "    .dataframe thead th {\n",
       "        text-align: right;\n",
       "    }\n",
       "</style>\n",
       "<table border=\"1\" class=\"dataframe\">\n",
       "  <thead>\n",
       "    <tr style=\"text-align: right;\">\n",
       "      <th></th>\n",
       "      <th>no2</th>\n",
       "      <th>so2</th>\n",
       "      <th>spm</th>\n",
       "    </tr>\n",
       "    <tr>\n",
       "      <th>location</th>\n",
       "      <th></th>\n",
       "      <th></th>\n",
       "      <th></th>\n",
       "    </tr>\n",
       "  </thead>\n",
       "  <tbody>\n",
       "    <tr>\n",
       "      <th>Chennai</th>\n",
       "      <td>18.551330</td>\n",
       "      <td>11.905157</td>\n",
       "      <td>199.767056</td>\n",
       "    </tr>\n",
       "    <tr>\n",
       "      <th>Coimbatore</th>\n",
       "      <td>29.374767</td>\n",
       "      <td>5.832845</td>\n",
       "      <td>188.888683</td>\n",
       "    </tr>\n",
       "    <tr>\n",
       "      <th>Cuddalore</th>\n",
       "      <td>19.772657</td>\n",
       "      <td>9.110599</td>\n",
       "      <td>267.000000</td>\n",
       "    </tr>\n",
       "    <tr>\n",
       "      <th>Madurai</th>\n",
       "      <td>24.420616</td>\n",
       "      <td>11.153280</td>\n",
       "      <td>179.156298</td>\n",
       "    </tr>\n",
       "    <tr>\n",
       "      <th>Mettur</th>\n",
       "      <td>24.039095</td>\n",
       "      <td>8.399177</td>\n",
       "      <td>267.000000</td>\n",
       "    </tr>\n",
       "    <tr>\n",
       "      <th>Salem</th>\n",
       "      <td>25.764407</td>\n",
       "      <td>8.190645</td>\n",
       "      <td>179.440385</td>\n",
       "    </tr>\n",
       "    <tr>\n",
       "      <th>Thoothukudi</th>\n",
       "      <td>16.948928</td>\n",
       "      <td>17.532772</td>\n",
       "      <td>210.858009</td>\n",
       "    </tr>\n",
       "    <tr>\n",
       "      <th>Trichy</th>\n",
       "      <td>18.211327</td>\n",
       "      <td>13.753170</td>\n",
       "      <td>267.000000</td>\n",
       "    </tr>\n",
       "    <tr>\n",
       "      <th>Tuticorin</th>\n",
       "      <td>14.505208</td>\n",
       "      <td>10.176389</td>\n",
       "      <td>51.322917</td>\n",
       "    </tr>\n",
       "  </tbody>\n",
       "</table>\n",
       "</div>"
      ],
      "text/plain": [
       "                   no2        so2         spm\n",
       "location                                     \n",
       "Chennai      18.551330  11.905157  199.767056\n",
       "Coimbatore   29.374767   5.832845  188.888683\n",
       "Cuddalore    19.772657   9.110599  267.000000\n",
       "Madurai      24.420616  11.153280  179.156298\n",
       "Mettur       24.039095   8.399177  267.000000\n",
       "Salem        25.764407   8.190645  179.440385\n",
       "Thoothukudi  16.948928  17.532772  210.858009\n",
       "Trichy       18.211327  13.753170  267.000000\n",
       "Tuticorin    14.505208  10.176389   51.322917"
      ]
     },
     "execution_count": 36,
     "metadata": {},
     "output_type": "execute_result"
    }
   ],
   "source": [
    "loc = pd.pivot_table(tn, values=['so2','no2','spm'],index='location') # Aggfunc: default-np.mean()\n",
    "loc"
   ]
  },
  {
   "cell_type": "code",
   "execution_count": 37,
   "metadata": {},
   "outputs": [
    {
     "data": {
      "image/png": "[encoded data removed]",
      "text/plain": [
       "<Figure size 432x288 with 1 Axes>"
      ]
     },
     "metadata": {
      "needs_background": "light"
     },
     "output_type": "display_data"
    }
   ],
   "source": [
    "maxso2 = loc.sort_values(by='so2',ascending=False)\n",
    "maxso2.loc[:,['so2']].head(10).plot(kind='bar');\n"
   ]
  },
  {
   "cell_type": "code",
   "execution_count": 38,
   "metadata": {},
   "outputs": [
    {
     "data": {
      "image/png": "[encoded data removed]",
      "text/plain": [
       "<Figure size 432x288 with 1 Axes>"
      ]
     },
     "metadata": {
      "needs_background": "light"
     },
     "output_type": "display_data"
    }
   ],
   "source": [
    "maxno2 = loc.sort_values(by='no2',ascending=False);\n",
    "maxno2.loc[:,['no2']].head(10).plot(kind='bar');"
   ]
  },
  {
   "cell_type": "code",
   "execution_count": 39,
   "metadata": {},
   "outputs": [
    {
     "data": {
      "image/png": "[encoded data removed]",
      "text/plain": [
       "<Figure size 432x288 with 1 Axes>"
      ]
     },
     "metadata": {
      "needs_background": "light"
     },
     "output_type": "display_data"
    }
   ],
   "source": [
    "maxspm = loc.sort_values(by='spm',ascending=False);\n",
    "maxspm.loc[:,['spm']].head(10).plot(kind='bar');"
   ]
  },
  {
   "cell_type": "markdown",
   "metadata": {},
   "source": [
    "# Calculating AQI"
   ]
  },
  {
   "cell_type": "code",
   "execution_count": 40,
   "metadata": {},
   "outputs": [
    {
     "data": {
      "text/html": [
       "<div>\n",
       "<style scoped>\n",
       "    .dataframe tbody tr th:only-of-type {\n",
       "        vertical-align: middle;\n",
       "    }\n",
       "\n",
       "    .dataframe tbody tr th {\n",
       "        vertical-align: top;\n",
       "    }\n",
       "\n",
       "    .dataframe thead th {\n",
       "        text-align: right;\n",
       "    }\n",
       "</style>\n",
       "<table border=\"1\" class=\"dataframe\">\n",
       "  <thead>\n",
       "    <tr style=\"text-align: right;\">\n",
       "      <th></th>\n",
       "      <th>so2</th>\n",
       "      <th>si</th>\n",
       "    </tr>\n",
       "  </thead>\n",
       "  <tbody>\n",
       "    <tr>\n",
       "      <th>364231</th>\n",
       "      <td>13.0</td>\n",
       "      <td>s1</td>\n",
       "    </tr>\n",
       "    <tr>\n",
       "      <th>364232</th>\n",
       "      <td>13.0</td>\n",
       "      <td>s1</td>\n",
       "    </tr>\n",
       "    <tr>\n",
       "      <th>364233</th>\n",
       "      <td>14.0</td>\n",
       "      <td>s1</td>\n",
       "    </tr>\n",
       "    <tr>\n",
       "      <th>364234</th>\n",
       "      <td>15.0</td>\n",
       "      <td>s1</td>\n",
       "    </tr>\n",
       "    <tr>\n",
       "      <th>364235</th>\n",
       "      <td>15.0</td>\n",
       "      <td>s1</td>\n",
       "    </tr>\n",
       "  </tbody>\n",
       "</table>\n",
       "</div>"
      ],
      "text/plain": [
       "         so2  si\n",
       "364231  13.0  s1\n",
       "364232  13.0  s1\n",
       "364233  14.0  s1\n",
       "364234  15.0  s1\n",
       "364235  15.0  s1"
      ]
     },
     "execution_count": 40,
     "metadata": {},
     "output_type": "execute_result"
    }
   ],
   "source": [
    "def calculate_si(so2):\n",
    "    si=0\n",
    "    if (so2<=40):\n",
    "     si= \"s1\"\n",
    "    if (so2>40 and so2<=80):\n",
    "     si= \"s2\"\n",
    "    if (so2>80 and so2<=380):\n",
    "     si= \"s3\"\n",
    "    if (so2>380 and so2<=800):\n",
    "     si= \"s4\"\n",
    "    if (so2>800 and so2<=1600):\n",
    "     si= \"s5\"\n",
    "    if (so2>1600):\n",
    "     si= \"s6\"\n",
    "    return si\n",
    "tn['si']=tn['so2'].apply(calculate_si)\n",
    "ds= tn[['so2','si']]\n",
    "ds.tail()"
   ]
  },
  {
   "cell_type": "code",
   "execution_count": 41,
   "metadata": {},
   "outputs": [
    {
     "data": {
      "text/html": [
       "<div>\n",
       "<style scoped>\n",
       "    .dataframe tbody tr th:only-of-type {\n",
       "        vertical-align: middle;\n",
       "    }\n",
       "\n",
       "    .dataframe tbody tr th {\n",
       "        vertical-align: top;\n",
       "    }\n",
       "\n",
       "    .dataframe thead th {\n",
       "        text-align: right;\n",
       "    }\n",
       "</style>\n",
       "<table border=\"1\" class=\"dataframe\">\n",
       "  <thead>\n",
       "    <tr style=\"text-align: right;\">\n",
       "      <th></th>\n",
       "      <th>no2</th>\n",
       "      <th>ni</th>\n",
       "    </tr>\n",
       "  </thead>\n",
       "  <tbody>\n",
       "    <tr>\n",
       "      <th>364231</th>\n",
       "      <td>22.0</td>\n",
       "      <td>n1</td>\n",
       "    </tr>\n",
       "    <tr>\n",
       "      <th>364232</th>\n",
       "      <td>22.0</td>\n",
       "      <td>n1</td>\n",
       "    </tr>\n",
       "    <tr>\n",
       "      <th>364233</th>\n",
       "      <td>24.0</td>\n",
       "      <td>n1</td>\n",
       "    </tr>\n",
       "    <tr>\n",
       "      <th>364234</th>\n",
       "      <td>25.0</td>\n",
       "      <td>n1</td>\n",
       "    </tr>\n",
       "    <tr>\n",
       "      <th>364235</th>\n",
       "      <td>24.0</td>\n",
       "      <td>n1</td>\n",
       "    </tr>\n",
       "  </tbody>\n",
       "</table>\n",
       "</div>"
      ],
      "text/plain": [
       "         no2  ni\n",
       "364231  22.0  n1\n",
       "364232  22.0  n1\n",
       "364233  24.0  n1\n",
       "364234  25.0  n1\n",
       "364235  24.0  n1"
      ]
     },
     "execution_count": 41,
     "metadata": {},
     "output_type": "execute_result"
    }
   ],
   "source": [
    "def calculate_ni(no2):\n",
    "    ni=0\n",
    "    if (no2<=40):\n",
    "     ni= \"n1\"\n",
    "    if (no2>40 and no2<=80):\n",
    "     ni= \"n2\"\n",
    "    if (no2>80 and no2<=180):\n",
    "     ni= \"n3\"\n",
    "    if (no2>180 and no2<=280):\n",
    "     ni= \"n4\"\n",
    "    if (no2>280 and no2<=400):\n",
    "     ni= \"n5\"\n",
    "    if (no2>400):\n",
    "     ni= \"n6\"\n",
    "    return ni\n",
    "tn['ni']=tn['no2'].apply(calculate_ni)\n",
    "dn= tn[['no2','ni']]\n",
    "dn.tail()"
   ]
  },
  {
   "cell_type": "code",
   "execution_count": 42,
   "metadata": {},
   "outputs": [
    {
     "data": {
      "text/html": [
       "<div>\n",
       "<style scoped>\n",
       "    .dataframe tbody tr th:only-of-type {\n",
       "        vertical-align: middle;\n",
       "    }\n",
       "\n",
       "    .dataframe tbody tr th {\n",
       "        vertical-align: top;\n",
       "    }\n",
       "\n",
       "    .dataframe thead th {\n",
       "        text-align: right;\n",
       "    }\n",
       "</style>\n",
       "<table border=\"1\" class=\"dataframe\">\n",
       "  <thead>\n",
       "    <tr style=\"text-align: right;\">\n",
       "      <th></th>\n",
       "      <th>spm</th>\n",
       "      <th>spi</th>\n",
       "    </tr>\n",
       "  </thead>\n",
       "  <tbody>\n",
       "    <tr>\n",
       "      <th>364231</th>\n",
       "      <td>267.0</td>\n",
       "      <td>sp4</td>\n",
       "    </tr>\n",
       "    <tr>\n",
       "      <th>364232</th>\n",
       "      <td>267.0</td>\n",
       "      <td>sp4</td>\n",
       "    </tr>\n",
       "    <tr>\n",
       "      <th>364233</th>\n",
       "      <td>267.0</td>\n",
       "      <td>sp4</td>\n",
       "    </tr>\n",
       "    <tr>\n",
       "      <th>364234</th>\n",
       "      <td>267.0</td>\n",
       "      <td>sp4</td>\n",
       "    </tr>\n",
       "    <tr>\n",
       "      <th>364235</th>\n",
       "      <td>267.0</td>\n",
       "      <td>sp4</td>\n",
       "    </tr>\n",
       "  </tbody>\n",
       "</table>\n",
       "</div>"
      ],
      "text/plain": [
       "          spm  spi\n",
       "364231  267.0  sp4\n",
       "364232  267.0  sp4\n",
       "364233  267.0  sp4\n",
       "364234  267.0  sp4\n",
       "364235  267.0  sp4"
      ]
     },
     "execution_count": 42,
     "metadata": {},
     "output_type": "execute_result"
    }
   ],
   "source": [
    "def calculate_spi(spm):\n",
    "    spi=0\n",
    "    if (spm<=40):\n",
    "      spi= \"sp1\"\n",
    "    if (spm>40 and spm<=80):\n",
    "      spi= \"sp2\"\n",
    "    if (spm>80 and spm<=180):\n",
    "      spi= \"sp3\"\n",
    "    if (spm>180 and spm<=280):\n",
    "      spi= \"sp4\"\n",
    "    if (spm>280 and spm<=400):\n",
    "      spi= \"sp5\"\n",
    "    if (spm>400):\n",
    "      spi= \"sp6\"\n",
    "    return  spi\n",
    "tn['spi']=tn['spm'].apply(calculate_spi)\n",
    "dsp= tn[['spm','spi']]\n",
    "dsp.tail()"
   ]
  },
  {
   "cell_type": "code",
   "execution_count": 43,
   "metadata": {},
   "outputs": [
    {
     "data": {
      "text/html": [
       "<div>\n",
       "<style scoped>\n",
       "    .dataframe tbody tr th:only-of-type {\n",
       "        vertical-align: middle;\n",
       "    }\n",
       "\n",
       "    .dataframe tbody tr th {\n",
       "        vertical-align: top;\n",
       "    }\n",
       "\n",
       "    .dataframe thead th {\n",
       "        text-align: right;\n",
       "    }\n",
       "</style>\n",
       "<table border=\"1\" class=\"dataframe\">\n",
       "  <thead>\n",
       "    <tr style=\"text-align: right;\">\n",
       "      <th></th>\n",
       "      <th>state</th>\n",
       "      <th>location</th>\n",
       "      <th>type</th>\n",
       "      <th>so2</th>\n",
       "      <th>no2</th>\n",
       "      <th>spm</th>\n",
       "      <th>date</th>\n",
       "      <th>si</th>\n",
       "      <th>ni</th>\n",
       "      <th>spi</th>\n",
       "    </tr>\n",
       "  </thead>\n",
       "  <tbody>\n",
       "    <tr>\n",
       "      <th>343921</th>\n",
       "      <td>Tamil Nadu</td>\n",
       "      <td>Chennai</td>\n",
       "      <td>Industrial</td>\n",
       "      <td>12.2</td>\n",
       "      <td>19.9</td>\n",
       "      <td>264.0</td>\n",
       "      <td>1991-05-01</td>\n",
       "      <td>s1</td>\n",
       "      <td>n1</td>\n",
       "      <td>sp4</td>\n",
       "    </tr>\n",
       "    <tr>\n",
       "      <th>354824</th>\n",
       "      <td>Tamil Nadu</td>\n",
       "      <td>Thoothukudi</td>\n",
       "      <td>Residential</td>\n",
       "      <td>8.0</td>\n",
       "      <td>11.0</td>\n",
       "      <td>267.0</td>\n",
       "      <td>2011-01-20</td>\n",
       "      <td>s1</td>\n",
       "      <td>n1</td>\n",
       "      <td>sp4</td>\n",
       "    </tr>\n",
       "  </tbody>\n",
       "</table>\n",
       "</div>"
      ],
      "text/plain": [
       "             state     location         type   so2   no2    spm       date  \\\n",
       "343921  Tamil Nadu      Chennai   Industrial  12.2  19.9  264.0 1991-05-01   \n",
       "354824  Tamil Nadu  Thoothukudi  Residential   8.0  11.0  267.0 2011-01-20   \n",
       "\n",
       "        si  ni  spi  \n",
       "343921  s1  n1  sp4  \n",
       "354824  s1  n1  sp4  "
      ]
     },
     "execution_count": 43,
     "metadata": {},
     "output_type": "execute_result"
    }
   ],
   "source": [
    "tn.sample(2)"
   ]
  },
  {
   "cell_type": "code",
   "execution_count": 44,
   "metadata": {},
   "outputs": [],
   "source": [
    "# AQI\n",
    "def calculate_aqi(si,ni,spi):\n",
    "    aqi=0\n",
    "    if(si>ni and si>spi):\n",
    "     aqi=si\n",
    "    if (spi>ni and spi>si):\n",
    "     aqi=spi\n",
    "    if(ni>si and ni>spi):\n",
    "     aqi= ni\n",
    "    return aqi\n",
    "tn['AQI']=tn.apply(lambda x:calculate_aqi(x['so2'],x['no2'],x['spm']),axis=1)"
   ]
  },
  {
   "cell_type": "code",
   "execution_count": 45,
   "metadata": {},
   "outputs": [
    {
     "data": {
      "text/html": [
       "<div>\n",
       "<style scoped>\n",
       "    .dataframe tbody tr th:only-of-type {\n",
       "        vertical-align: middle;\n",
       "    }\n",
       "\n",
       "    .dataframe tbody tr th {\n",
       "        vertical-align: top;\n",
       "    }\n",
       "\n",
       "    .dataframe thead th {\n",
       "        text-align: right;\n",
       "    }\n",
       "</style>\n",
       "<table border=\"1\" class=\"dataframe\">\n",
       "  <thead>\n",
       "    <tr style=\"text-align: right;\">\n",
       "      <th></th>\n",
       "      <th>state</th>\n",
       "      <th>location</th>\n",
       "      <th>type</th>\n",
       "      <th>so2</th>\n",
       "      <th>no2</th>\n",
       "      <th>spm</th>\n",
       "      <th>date</th>\n",
       "      <th>si</th>\n",
       "      <th>ni</th>\n",
       "      <th>spi</th>\n",
       "      <th>AQI</th>\n",
       "    </tr>\n",
       "  </thead>\n",
       "  <tbody>\n",
       "    <tr>\n",
       "      <th>343639</th>\n",
       "      <td>Tamil Nadu</td>\n",
       "      <td>Chennai</td>\n",
       "      <td>Industrial</td>\n",
       "      <td>0.5</td>\n",
       "      <td>0.3</td>\n",
       "      <td>82.0</td>\n",
       "      <td>1987-01-27</td>\n",
       "      <td>s1</td>\n",
       "      <td>n1</td>\n",
       "      <td>sp3</td>\n",
       "      <td>82.0</td>\n",
       "    </tr>\n",
       "    <tr>\n",
       "      <th>343640</th>\n",
       "      <td>Tamil Nadu</td>\n",
       "      <td>Chennai</td>\n",
       "      <td>Industrial</td>\n",
       "      <td>12.9</td>\n",
       "      <td>1.3</td>\n",
       "      <td>290.0</td>\n",
       "      <td>1987-04-13</td>\n",
       "      <td>s1</td>\n",
       "      <td>n1</td>\n",
       "      <td>sp5</td>\n",
       "      <td>290.0</td>\n",
       "    </tr>\n",
       "    <tr>\n",
       "      <th>343641</th>\n",
       "      <td>Tamil Nadu</td>\n",
       "      <td>Chennai</td>\n",
       "      <td>Industrial</td>\n",
       "      <td>38.8</td>\n",
       "      <td>0.9</td>\n",
       "      <td>222.0</td>\n",
       "      <td>1987-01-05</td>\n",
       "      <td>s1</td>\n",
       "      <td>n1</td>\n",
       "      <td>sp4</td>\n",
       "      <td>222.0</td>\n",
       "    </tr>\n",
       "    <tr>\n",
       "      <th>343642</th>\n",
       "      <td>Tamil Nadu</td>\n",
       "      <td>Chennai</td>\n",
       "      <td>Industrial</td>\n",
       "      <td>29.7</td>\n",
       "      <td>1.1</td>\n",
       "      <td>213.0</td>\n",
       "      <td>1987-01-06</td>\n",
       "      <td>s1</td>\n",
       "      <td>n1</td>\n",
       "      <td>sp4</td>\n",
       "      <td>213.0</td>\n",
       "    </tr>\n",
       "    <tr>\n",
       "      <th>343643</th>\n",
       "      <td>Tamil Nadu</td>\n",
       "      <td>Chennai</td>\n",
       "      <td>Industrial</td>\n",
       "      <td>27.5</td>\n",
       "      <td>1.3</td>\n",
       "      <td>223.0</td>\n",
       "      <td>1987-01-07</td>\n",
       "      <td>s1</td>\n",
       "      <td>n1</td>\n",
       "      <td>sp4</td>\n",
       "      <td>223.0</td>\n",
       "    </tr>\n",
       "  </tbody>\n",
       "</table>\n",
       "</div>"
      ],
      "text/plain": [
       "             state location        type   so2  no2    spm       date  si  ni  \\\n",
       "343639  Tamil Nadu  Chennai  Industrial   0.5  0.3   82.0 1987-01-27  s1  n1   \n",
       "343640  Tamil Nadu  Chennai  Industrial  12.9  1.3  290.0 1987-04-13  s1  n1   \n",
       "343641  Tamil Nadu  Chennai  Industrial  38.8  0.9  222.0 1987-01-05  s1  n1   \n",
       "343642  Tamil Nadu  Chennai  Industrial  29.7  1.1  213.0 1987-01-06  s1  n1   \n",
       "343643  Tamil Nadu  Chennai  Industrial  27.5  1.3  223.0 1987-01-07  s1  n1   \n",
       "\n",
       "        spi    AQI  \n",
       "343639  sp3   82.0  \n",
       "343640  sp5  290.0  \n",
       "343641  sp4  222.0  \n",
       "343642  sp4  213.0  \n",
       "343643  sp4  223.0  "
      ]
     },
     "execution_count": 45,
     "metadata": {},
     "output_type": "execute_result"
    }
   ],
   "source": [
    "tn.head()"
   ]
  },
  {
   "cell_type": "code",
   "execution_count": 46,
   "metadata": {},
   "outputs": [
    {
     "data": {
      "text/html": [
       "<div>\n",
       "<style scoped>\n",
       "    .dataframe tbody tr th:only-of-type {\n",
       "        vertical-align: middle;\n",
       "    }\n",
       "\n",
       "    .dataframe tbody tr th {\n",
       "        vertical-align: top;\n",
       "    }\n",
       "\n",
       "    .dataframe thead th {\n",
       "        text-align: right;\n",
       "    }\n",
       "</style>\n",
       "<table border=\"1\" class=\"dataframe\">\n",
       "  <thead>\n",
       "    <tr style=\"text-align: right;\">\n",
       "      <th></th>\n",
       "      <th>AQI</th>\n",
       "    </tr>\n",
       "    <tr>\n",
       "      <th>location</th>\n",
       "      <th></th>\n",
       "    </tr>\n",
       "  </thead>\n",
       "  <tbody>\n",
       "    <tr>\n",
       "      <th>Chennai</th>\n",
       "      <td>200.055794</td>\n",
       "    </tr>\n",
       "    <tr>\n",
       "      <th>Coimbatore</th>\n",
       "      <td>189.199613</td>\n",
       "    </tr>\n",
       "    <tr>\n",
       "      <th>Cuddalore</th>\n",
       "      <td>267.000000</td>\n",
       "    </tr>\n",
       "    <tr>\n",
       "      <th>Madurai</th>\n",
       "      <td>179.283224</td>\n",
       "    </tr>\n",
       "    <tr>\n",
       "      <th>Mettur</th>\n",
       "      <td>267.000000</td>\n",
       "    </tr>\n",
       "    <tr>\n",
       "      <th>Salem</th>\n",
       "      <td>179.550399</td>\n",
       "    </tr>\n",
       "    <tr>\n",
       "      <th>Thoothukudi</th>\n",
       "      <td>210.887068</td>\n",
       "    </tr>\n",
       "    <tr>\n",
       "      <th>Trichy</th>\n",
       "      <td>267.000000</td>\n",
       "    </tr>\n",
       "    <tr>\n",
       "      <th>Tuticorin</th>\n",
       "      <td>52.573958</td>\n",
       "    </tr>\n",
       "  </tbody>\n",
       "</table>\n",
       "</div>"
      ],
      "text/plain": [
       "                    AQI\n",
       "location               \n",
       "Chennai      200.055794\n",
       "Coimbatore   189.199613\n",
       "Cuddalore    267.000000\n",
       "Madurai      179.283224\n",
       "Mettur       267.000000\n",
       "Salem        179.550399\n",
       "Thoothukudi  210.887068\n",
       "Trichy       267.000000\n",
       "Tuticorin     52.573958"
      ]
     },
     "execution_count": 46,
     "metadata": {},
     "output_type": "execute_result"
    }
   ],
   "source": [
    "aq_wise = pd.pivot_table(tn, values=['AQI'],index='location')\n",
    "aq_wise"
   ]
  },
  {
   "cell_type": "code",
   "execution_count": 47,
   "metadata": {},
   "outputs": [
    {
     "data": {
      "text/plain": [
       "<AxesSubplot:xlabel='location'>"
      ]
     },
     "execution_count": 47,
     "metadata": {},
     "output_type": "execute_result"
    },
    {
     "data": {
      "image/png": "[encoded data removed]",
      "text/plain": [
       "<Figure size 432x288 with 1 Axes>"
      ]
     },
     "metadata": {
      "needs_background": "light"
     },
     "output_type": "display_data"
    }
   ],
   "source": [
    "maxaqi = aq_wise.sort_values(by='AQI',ascending=False)\n",
    "maxaqi.loc[:,['AQI']].head(37).plot(kind='bar')"
   ]
  },
  {
   "cell_type": "code",
   "execution_count": 48,
   "metadata": {},
   "outputs": [
    {
     "data": {
      "text/html": [
       "<div>\n",
       "<style scoped>\n",
       "    .dataframe tbody tr th:only-of-type {\n",
       "        vertical-align: middle;\n",
       "    }\n",
       "\n",
       "    .dataframe tbody tr th {\n",
       "        vertical-align: top;\n",
       "    }\n",
       "\n",
       "    .dataframe thead th {\n",
       "        text-align: right;\n",
       "    }\n",
       "</style>\n",
       "<table border=\"1\" class=\"dataframe\">\n",
       "  <thead>\n",
       "    <tr style=\"text-align: right;\">\n",
       "      <th></th>\n",
       "      <th>AQI</th>\n",
       "    </tr>\n",
       "    <tr>\n",
       "      <th>date</th>\n",
       "      <th></th>\n",
       "    </tr>\n",
       "  </thead>\n",
       "  <tbody>\n",
       "    <tr>\n",
       "      <th>1987-01-05</th>\n",
       "      <td>222.0</td>\n",
       "    </tr>\n",
       "    <tr>\n",
       "      <th>1987-01-06</th>\n",
       "      <td>213.0</td>\n",
       "    </tr>\n",
       "    <tr>\n",
       "      <th>1987-01-07</th>\n",
       "      <td>223.0</td>\n",
       "    </tr>\n",
       "    <tr>\n",
       "      <th>1987-01-12</th>\n",
       "      <td>118.5</td>\n",
       "    </tr>\n",
       "    <tr>\n",
       "      <th>1987-01-27</th>\n",
       "      <td>82.0</td>\n",
       "    </tr>\n",
       "    <tr>\n",
       "      <th>...</th>\n",
       "      <td>...</td>\n",
       "    </tr>\n",
       "    <tr>\n",
       "      <th>2015-12-26</th>\n",
       "      <td>267.0</td>\n",
       "    </tr>\n",
       "    <tr>\n",
       "      <th>2015-12-28</th>\n",
       "      <td>267.0</td>\n",
       "    </tr>\n",
       "    <tr>\n",
       "      <th>2015-12-29</th>\n",
       "      <td>267.0</td>\n",
       "    </tr>\n",
       "    <tr>\n",
       "      <th>2015-12-30</th>\n",
       "      <td>267.0</td>\n",
       "    </tr>\n",
       "    <tr>\n",
       "      <th>2015-12-31</th>\n",
       "      <td>267.0</td>\n",
       "    </tr>\n",
       "  </tbody>\n",
       "</table>\n",
       "<p>3559 rows × 1 columns</p>\n",
       "</div>"
      ],
      "text/plain": [
       "              AQI\n",
       "date             \n",
       "1987-01-05  222.0\n",
       "1987-01-06  213.0\n",
       "1987-01-07  223.0\n",
       "1987-01-12  118.5\n",
       "1987-01-27   82.0\n",
       "...           ...\n",
       "2015-12-26  267.0\n",
       "2015-12-28  267.0\n",
       "2015-12-29  267.0\n",
       "2015-12-30  267.0\n",
       "2015-12-31  267.0\n",
       "\n",
       "[3559 rows x 1 columns]"
      ]
     },
     "execution_count": 48,
     "metadata": {},
     "output_type": "execute_result"
    }
   ],
   "source": [
    "date_wise = pd.pivot_table(tn, values=['AQI'],index='date')\n",
    "date_wise"
   ]
  },
  {
   "cell_type": "code",
   "execution_count": 49,
   "metadata": {},
   "outputs": [
    {
     "data": {
      "text/plain": [
       "<AxesSubplot:xlabel='date'>"
      ]
     },
     "execution_count": 49,
     "metadata": {},
     "output_type": "execute_result"
    },
    {
     "data": {
      "image/png": "[encoded data removed]",
      "text/plain": [
       "<Figure size 432x288 with 1 Axes>"
      ]
     },
     "metadata": {
      "needs_background": "light"
     },
     "output_type": "display_data"
    }
   ],
   "source": [
    "date_wise.loc[:,['AQI']].head(30).plot(kind='bar')"
   ]
  },
  {
   "cell_type": "code",
   "execution_count": null,
   "metadata": {},
   "outputs": [],
   "source": []
  },
  {
   "cell_type": "markdown",
   "metadata": {},
   "source": [
    "# Training Data"
   ]
  },
  {
   "cell_type": "code",
   "execution_count": 50,
   "metadata": {},
   "outputs": [],
   "source": [
    "dum1 = pd.get_dummies(tn['type'])\n",
    "dum2 = pd.get_dummies(tn['location'])\n",
    "tn['year'] = tn['date'].dt.year"
   ]
  },
  {
   "cell_type": "code",
   "execution_count": 51,
   "metadata": {},
   "outputs": [
    {
     "data": {
      "text/html": [
       "<div>\n",
       "<style scoped>\n",
       "    .dataframe tbody tr th:only-of-type {\n",
       "        vertical-align: middle;\n",
       "    }\n",
       "\n",
       "    .dataframe tbody tr th {\n",
       "        vertical-align: top;\n",
       "    }\n",
       "\n",
       "    .dataframe thead th {\n",
       "        text-align: right;\n",
       "    }\n",
       "</style>\n",
       "<table border=\"1\" class=\"dataframe\">\n",
       "  <thead>\n",
       "    <tr style=\"text-align: right;\">\n",
       "      <th></th>\n",
       "      <th>state</th>\n",
       "      <th>location</th>\n",
       "      <th>type</th>\n",
       "      <th>so2</th>\n",
       "      <th>no2</th>\n",
       "      <th>spm</th>\n",
       "      <th>date</th>\n",
       "      <th>si</th>\n",
       "      <th>ni</th>\n",
       "      <th>spi</th>\n",
       "      <th>...</th>\n",
       "      <th>Residential</th>\n",
       "      <th>Chennai</th>\n",
       "      <th>Coimbatore</th>\n",
       "      <th>Cuddalore</th>\n",
       "      <th>Madurai</th>\n",
       "      <th>Mettur</th>\n",
       "      <th>Salem</th>\n",
       "      <th>Thoothukudi</th>\n",
       "      <th>Trichy</th>\n",
       "      <th>Tuticorin</th>\n",
       "    </tr>\n",
       "  </thead>\n",
       "  <tbody>\n",
       "    <tr>\n",
       "      <th>343639</th>\n",
       "      <td>Tamil Nadu</td>\n",
       "      <td>Chennai</td>\n",
       "      <td>Industrial</td>\n",
       "      <td>0.5</td>\n",
       "      <td>0.3</td>\n",
       "      <td>82.0</td>\n",
       "      <td>1987-01-27</td>\n",
       "      <td>s1</td>\n",
       "      <td>n1</td>\n",
       "      <td>sp3</td>\n",
       "      <td>...</td>\n",
       "      <td>0</td>\n",
       "      <td>1</td>\n",
       "      <td>0</td>\n",
       "      <td>0</td>\n",
       "      <td>0</td>\n",
       "      <td>0</td>\n",
       "      <td>0</td>\n",
       "      <td>0</td>\n",
       "      <td>0</td>\n",
       "      <td>0</td>\n",
       "    </tr>\n",
       "    <tr>\n",
       "      <th>343640</th>\n",
       "      <td>Tamil Nadu</td>\n",
       "      <td>Chennai</td>\n",
       "      <td>Industrial</td>\n",
       "      <td>12.9</td>\n",
       "      <td>1.3</td>\n",
       "      <td>290.0</td>\n",
       "      <td>1987-04-13</td>\n",
       "      <td>s1</td>\n",
       "      <td>n1</td>\n",
       "      <td>sp5</td>\n",
       "      <td>...</td>\n",
       "      <td>0</td>\n",
       "      <td>1</td>\n",
       "      <td>0</td>\n",
       "      <td>0</td>\n",
       "      <td>0</td>\n",
       "      <td>0</td>\n",
       "      <td>0</td>\n",
       "      <td>0</td>\n",
       "      <td>0</td>\n",
       "      <td>0</td>\n",
       "    </tr>\n",
       "    <tr>\n",
       "      <th>343641</th>\n",
       "      <td>Tamil Nadu</td>\n",
       "      <td>Chennai</td>\n",
       "      <td>Industrial</td>\n",
       "      <td>38.8</td>\n",
       "      <td>0.9</td>\n",
       "      <td>222.0</td>\n",
       "      <td>1987-01-05</td>\n",
       "      <td>s1</td>\n",
       "      <td>n1</td>\n",
       "      <td>sp4</td>\n",
       "      <td>...</td>\n",
       "      <td>0</td>\n",
       "      <td>1</td>\n",
       "      <td>0</td>\n",
       "      <td>0</td>\n",
       "      <td>0</td>\n",
       "      <td>0</td>\n",
       "      <td>0</td>\n",
       "      <td>0</td>\n",
       "      <td>0</td>\n",
       "      <td>0</td>\n",
       "    </tr>\n",
       "    <tr>\n",
       "      <th>343642</th>\n",
       "      <td>Tamil Nadu</td>\n",
       "      <td>Chennai</td>\n",
       "      <td>Industrial</td>\n",
       "      <td>29.7</td>\n",
       "      <td>1.1</td>\n",
       "      <td>213.0</td>\n",
       "      <td>1987-01-06</td>\n",
       "      <td>s1</td>\n",
       "      <td>n1</td>\n",
       "      <td>sp4</td>\n",
       "      <td>...</td>\n",
       "      <td>0</td>\n",
       "      <td>1</td>\n",
       "      <td>0</td>\n",
       "      <td>0</td>\n",
       "      <td>0</td>\n",
       "      <td>0</td>\n",
       "      <td>0</td>\n",
       "      <td>0</td>\n",
       "      <td>0</td>\n",
       "      <td>0</td>\n",
       "    </tr>\n",
       "    <tr>\n",
       "      <th>343643</th>\n",
       "      <td>Tamil Nadu</td>\n",
       "      <td>Chennai</td>\n",
       "      <td>Industrial</td>\n",
       "      <td>27.5</td>\n",
       "      <td>1.3</td>\n",
       "      <td>223.0</td>\n",
       "      <td>1987-01-07</td>\n",
       "      <td>s1</td>\n",
       "      <td>n1</td>\n",
       "      <td>sp4</td>\n",
       "      <td>...</td>\n",
       "      <td>0</td>\n",
       "      <td>1</td>\n",
       "      <td>0</td>\n",
       "      <td>0</td>\n",
       "      <td>0</td>\n",
       "      <td>0</td>\n",
       "      <td>0</td>\n",
       "      <td>0</td>\n",
       "      <td>0</td>\n",
       "      <td>0</td>\n",
       "    </tr>\n",
       "  </tbody>\n",
       "</table>\n",
       "<p>5 rows × 23 columns</p>\n",
       "</div>"
      ],
      "text/plain": [
       "             state location        type   so2  no2    spm       date  si  ni  \\\n",
       "343639  Tamil Nadu  Chennai  Industrial   0.5  0.3   82.0 1987-01-27  s1  n1   \n",
       "343640  Tamil Nadu  Chennai  Industrial  12.9  1.3  290.0 1987-04-13  s1  n1   \n",
       "343641  Tamil Nadu  Chennai  Industrial  38.8  0.9  222.0 1987-01-05  s1  n1   \n",
       "343642  Tamil Nadu  Chennai  Industrial  29.7  1.1  213.0 1987-01-06  s1  n1   \n",
       "343643  Tamil Nadu  Chennai  Industrial  27.5  1.3  223.0 1987-01-07  s1  n1   \n",
       "\n",
       "        spi  ...  Residential  Chennai  Coimbatore  Cuddalore  Madurai  \\\n",
       "343639  sp3  ...            0        1           0          0        0   \n",
       "343640  sp5  ...            0        1           0          0        0   \n",
       "343641  sp4  ...            0        1           0          0        0   \n",
       "343642  sp4  ...            0        1           0          0        0   \n",
       "343643  sp4  ...            0        1           0          0        0   \n",
       "\n",
       "        Mettur  Salem  Thoothukudi  Trichy  Tuticorin  \n",
       "343639       0      0            0       0          0  \n",
       "343640       0      0            0       0          0  \n",
       "343641       0      0            0       0          0  \n",
       "343642       0      0            0       0          0  \n",
       "343643       0      0            0       0          0  \n",
       "\n",
       "[5 rows x 23 columns]"
      ]
     },
     "execution_count": 51,
     "metadata": {},
     "output_type": "execute_result"
    }
   ],
   "source": [
    "td = pd.concat([tn, dum1, dum2], axis = 1)\n",
    "td.head()"
   ]
  },
  {
   "cell_type": "code",
   "execution_count": 52,
   "metadata": {},
   "outputs": [
    {
     "data": {
      "text/html": [
       "<div>\n",
       "<style scoped>\n",
       "    .dataframe tbody tr th:only-of-type {\n",
       "        vertical-align: middle;\n",
       "    }\n",
       "\n",
       "    .dataframe tbody tr th {\n",
       "        vertical-align: top;\n",
       "    }\n",
       "\n",
       "    .dataframe thead th {\n",
       "        text-align: right;\n",
       "    }\n",
       "</style>\n",
       "<table border=\"1\" class=\"dataframe\">\n",
       "  <thead>\n",
       "    <tr style=\"text-align: right;\">\n",
       "      <th></th>\n",
       "      <th>AQI</th>\n",
       "      <th>year</th>\n",
       "      <th>Industrial</th>\n",
       "      <th>Residential</th>\n",
       "      <th>Chennai</th>\n",
       "      <th>Coimbatore</th>\n",
       "      <th>Cuddalore</th>\n",
       "      <th>Madurai</th>\n",
       "      <th>Mettur</th>\n",
       "      <th>Salem</th>\n",
       "      <th>Thoothukudi</th>\n",
       "      <th>Trichy</th>\n",
       "      <th>Tuticorin</th>\n",
       "    </tr>\n",
       "  </thead>\n",
       "  <tbody>\n",
       "    <tr>\n",
       "      <th>345360</th>\n",
       "      <td>35.0</td>\n",
       "      <td>2004</td>\n",
       "      <td>0</td>\n",
       "      <td>1</td>\n",
       "      <td>1</td>\n",
       "      <td>0</td>\n",
       "      <td>0</td>\n",
       "      <td>0</td>\n",
       "      <td>0</td>\n",
       "      <td>0</td>\n",
       "      <td>0</td>\n",
       "      <td>0</td>\n",
       "      <td>0</td>\n",
       "    </tr>\n",
       "    <tr>\n",
       "      <th>351832</th>\n",
       "      <td>142.0</td>\n",
       "      <td>2009</td>\n",
       "      <td>0</td>\n",
       "      <td>1</td>\n",
       "      <td>0</td>\n",
       "      <td>0</td>\n",
       "      <td>0</td>\n",
       "      <td>0</td>\n",
       "      <td>0</td>\n",
       "      <td>0</td>\n",
       "      <td>1</td>\n",
       "      <td>0</td>\n",
       "      <td>0</td>\n",
       "    </tr>\n",
       "  </tbody>\n",
       "</table>\n",
       "</div>"
      ],
      "text/plain": [
       "          AQI  year  Industrial  Residential  Chennai  Coimbatore  Cuddalore  \\\n",
       "345360   35.0  2004           0            1        1           0          0   \n",
       "351832  142.0  2009           0            1        0           0          0   \n",
       "\n",
       "        Madurai  Mettur  Salem  Thoothukudi  Trichy  Tuticorin  \n",
       "345360        0       0      0            0       0          0  \n",
       "351832        0       0      0            1       0          0  "
      ]
     },
     "execution_count": 52,
     "metadata": {},
     "output_type": "execute_result"
    }
   ],
   "source": [
    "td.drop(labels = ['state','location','type','so2','no2','spm','si','ni','spi','date'], axis = 1, inplace = True)\n",
    "td.sample(2)"
   ]
  },
  {
   "cell_type": "code",
   "execution_count": 53,
   "metadata": {},
   "outputs": [
    {
     "data": {
      "text/html": [
       "<div>\n",
       "<style scoped>\n",
       "    .dataframe tbody tr th:only-of-type {\n",
       "        vertical-align: middle;\n",
       "    }\n",
       "\n",
       "    .dataframe tbody tr th {\n",
       "        vertical-align: top;\n",
       "    }\n",
       "\n",
       "    .dataframe thead th {\n",
       "        text-align: right;\n",
       "    }\n",
       "</style>\n",
       "<table border=\"1\" class=\"dataframe\">\n",
       "  <thead>\n",
       "    <tr style=\"text-align: right;\">\n",
       "      <th></th>\n",
       "      <th>AQI</th>\n",
       "      <th>year</th>\n",
       "      <th>Industrial</th>\n",
       "      <th>Residential</th>\n",
       "      <th>Chennai</th>\n",
       "      <th>Coimbatore</th>\n",
       "      <th>Cuddalore</th>\n",
       "      <th>Madurai</th>\n",
       "      <th>Mettur</th>\n",
       "      <th>Salem</th>\n",
       "      <th>Thoothukudi</th>\n",
       "      <th>Trichy</th>\n",
       "      <th>Tuticorin</th>\n",
       "    </tr>\n",
       "  </thead>\n",
       "  <tbody>\n",
       "    <tr>\n",
       "      <th>AQI</th>\n",
       "      <td>1.000000</td>\n",
       "      <td>0.646473</td>\n",
       "      <td>0.057981</td>\n",
       "      <td>-0.057981</td>\n",
       "      <td>-0.006406</td>\n",
       "      <td>-0.056296</td>\n",
       "      <td>0.133554</td>\n",
       "      <td>-0.099989</td>\n",
       "      <td>0.114920</td>\n",
       "      <td>-0.063568</td>\n",
       "      <td>0.043930</td>\n",
       "      <td>0.182486</td>\n",
       "      <td>-0.197143</td>\n",
       "    </tr>\n",
       "    <tr>\n",
       "      <th>year</th>\n",
       "      <td>0.646473</td>\n",
       "      <td>1.000000</td>\n",
       "      <td>-0.085917</td>\n",
       "      <td>0.085917</td>\n",
       "      <td>-0.123071</td>\n",
       "      <td>-0.056847</td>\n",
       "      <td>0.158258</td>\n",
       "      <td>0.011918</td>\n",
       "      <td>0.138348</td>\n",
       "      <td>0.015006</td>\n",
       "      <td>0.047736</td>\n",
       "      <td>0.186706</td>\n",
       "      <td>-0.307805</td>\n",
       "    </tr>\n",
       "    <tr>\n",
       "      <th>Industrial</th>\n",
       "      <td>0.057981</td>\n",
       "      <td>-0.085917</td>\n",
       "      <td>1.000000</td>\n",
       "      <td>-1.000000</td>\n",
       "      <td>0.300520</td>\n",
       "      <td>-0.054400</td>\n",
       "      <td>-0.017697</td>\n",
       "      <td>-0.038487</td>\n",
       "      <td>0.038661</td>\n",
       "      <td>-0.209332</td>\n",
       "      <td>-0.027929</td>\n",
       "      <td>-0.192979</td>\n",
       "      <td>-0.064122</td>\n",
       "    </tr>\n",
       "    <tr>\n",
       "      <th>Residential</th>\n",
       "      <td>-0.057981</td>\n",
       "      <td>0.085917</td>\n",
       "      <td>-1.000000</td>\n",
       "      <td>1.000000</td>\n",
       "      <td>-0.300520</td>\n",
       "      <td>0.054400</td>\n",
       "      <td>0.017697</td>\n",
       "      <td>0.038487</td>\n",
       "      <td>-0.038661</td>\n",
       "      <td>0.209332</td>\n",
       "      <td>0.027929</td>\n",
       "      <td>0.192979</td>\n",
       "      <td>0.064122</td>\n",
       "    </tr>\n",
       "    <tr>\n",
       "      <th>Chennai</th>\n",
       "      <td>-0.006406</td>\n",
       "      <td>-0.123071</td>\n",
       "      <td>0.300520</td>\n",
       "      <td>-0.300520</td>\n",
       "      <td>1.000000</td>\n",
       "      <td>-0.331489</td>\n",
       "      <td>-0.137904</td>\n",
       "      <td>-0.317511</td>\n",
       "      <td>-0.118663</td>\n",
       "      <td>-0.204397</td>\n",
       "      <td>-0.297876</td>\n",
       "      <td>-0.188430</td>\n",
       "      <td>-0.090901</td>\n",
       "    </tr>\n",
       "    <tr>\n",
       "      <th>Coimbatore</th>\n",
       "      <td>-0.056296</td>\n",
       "      <td>-0.056847</td>\n",
       "      <td>-0.054400</td>\n",
       "      <td>0.054400</td>\n",
       "      <td>-0.331489</td>\n",
       "      <td>1.000000</td>\n",
       "      <td>-0.078454</td>\n",
       "      <td>-0.180633</td>\n",
       "      <td>-0.067508</td>\n",
       "      <td>-0.116282</td>\n",
       "      <td>-0.169463</td>\n",
       "      <td>-0.107199</td>\n",
       "      <td>-0.051714</td>\n",
       "    </tr>\n",
       "    <tr>\n",
       "      <th>Cuddalore</th>\n",
       "      <td>0.133554</td>\n",
       "      <td>0.158258</td>\n",
       "      <td>-0.017697</td>\n",
       "      <td>0.017697</td>\n",
       "      <td>-0.137904</td>\n",
       "      <td>-0.078454</td>\n",
       "      <td>1.000000</td>\n",
       "      <td>-0.075146</td>\n",
       "      <td>-0.028084</td>\n",
       "      <td>-0.048375</td>\n",
       "      <td>-0.070499</td>\n",
       "      <td>-0.044596</td>\n",
       "      <td>-0.021514</td>\n",
       "    </tr>\n",
       "    <tr>\n",
       "      <th>Madurai</th>\n",
       "      <td>-0.099989</td>\n",
       "      <td>0.011918</td>\n",
       "      <td>-0.038487</td>\n",
       "      <td>0.038487</td>\n",
       "      <td>-0.317511</td>\n",
       "      <td>-0.180633</td>\n",
       "      <td>-0.075146</td>\n",
       "      <td>1.000000</td>\n",
       "      <td>-0.064661</td>\n",
       "      <td>-0.111379</td>\n",
       "      <td>-0.162317</td>\n",
       "      <td>-0.102678</td>\n",
       "      <td>-0.049533</td>\n",
       "    </tr>\n",
       "    <tr>\n",
       "      <th>Mettur</th>\n",
       "      <td>0.114920</td>\n",
       "      <td>0.138348</td>\n",
       "      <td>0.038661</td>\n",
       "      <td>-0.038661</td>\n",
       "      <td>-0.118663</td>\n",
       "      <td>-0.067508</td>\n",
       "      <td>-0.028084</td>\n",
       "      <td>-0.064661</td>\n",
       "      <td>1.000000</td>\n",
       "      <td>-0.041626</td>\n",
       "      <td>-0.060663</td>\n",
       "      <td>-0.038374</td>\n",
       "      <td>-0.018512</td>\n",
       "    </tr>\n",
       "    <tr>\n",
       "      <th>Salem</th>\n",
       "      <td>-0.063568</td>\n",
       "      <td>0.015006</td>\n",
       "      <td>-0.209332</td>\n",
       "      <td>0.209332</td>\n",
       "      <td>-0.204397</td>\n",
       "      <td>-0.116282</td>\n",
       "      <td>-0.048375</td>\n",
       "      <td>-0.111379</td>\n",
       "      <td>-0.041626</td>\n",
       "      <td>1.000000</td>\n",
       "      <td>-0.104491</td>\n",
       "      <td>-0.066099</td>\n",
       "      <td>-0.031887</td>\n",
       "    </tr>\n",
       "    <tr>\n",
       "      <th>Thoothukudi</th>\n",
       "      <td>0.043930</td>\n",
       "      <td>0.047736</td>\n",
       "      <td>-0.027929</td>\n",
       "      <td>0.027929</td>\n",
       "      <td>-0.297876</td>\n",
       "      <td>-0.169463</td>\n",
       "      <td>-0.070499</td>\n",
       "      <td>-0.162317</td>\n",
       "      <td>-0.060663</td>\n",
       "      <td>-0.104491</td>\n",
       "      <td>1.000000</td>\n",
       "      <td>-0.096329</td>\n",
       "      <td>-0.046470</td>\n",
       "    </tr>\n",
       "    <tr>\n",
       "      <th>Trichy</th>\n",
       "      <td>0.182486</td>\n",
       "      <td>0.186706</td>\n",
       "      <td>-0.192979</td>\n",
       "      <td>0.192979</td>\n",
       "      <td>-0.188430</td>\n",
       "      <td>-0.107199</td>\n",
       "      <td>-0.044596</td>\n",
       "      <td>-0.102678</td>\n",
       "      <td>-0.038374</td>\n",
       "      <td>-0.066099</td>\n",
       "      <td>-0.096329</td>\n",
       "      <td>1.000000</td>\n",
       "      <td>-0.029396</td>\n",
       "    </tr>\n",
       "    <tr>\n",
       "      <th>Tuticorin</th>\n",
       "      <td>-0.197143</td>\n",
       "      <td>-0.307805</td>\n",
       "      <td>-0.064122</td>\n",
       "      <td>0.064122</td>\n",
       "      <td>-0.090901</td>\n",
       "      <td>-0.051714</td>\n",
       "      <td>-0.021514</td>\n",
       "      <td>-0.049533</td>\n",
       "      <td>-0.018512</td>\n",
       "      <td>-0.031887</td>\n",
       "      <td>-0.046470</td>\n",
       "      <td>-0.029396</td>\n",
       "      <td>1.000000</td>\n",
       "    </tr>\n",
       "  </tbody>\n",
       "</table>\n",
       "</div>"
      ],
      "text/plain": [
       "                  AQI      year  Industrial  Residential   Chennai  \\\n",
       "AQI          1.000000  0.646473    0.057981    -0.057981 -0.006406   \n",
       "year         0.646473  1.000000   -0.085917     0.085917 -0.123071   \n",
       "Industrial   0.057981 -0.085917    1.000000    -1.000000  0.300520   \n",
       "Residential -0.057981  0.085917   -1.000000     1.000000 -0.300520   \n",
       "Chennai     -0.006406 -0.123071    0.300520    -0.300520  1.000000   \n",
       "Coimbatore  -0.056296 -0.056847   -0.054400     0.054400 -0.331489   \n",
       "Cuddalore    0.133554  0.158258   -0.017697     0.017697 -0.137904   \n",
       "Madurai     -0.099989  0.011918   -0.038487     0.038487 -0.317511   \n",
       "Mettur       0.114920  0.138348    0.038661    -0.038661 -0.118663   \n",
       "Salem       -0.063568  0.015006   -0.209332     0.209332 -0.204397   \n",
       "Thoothukudi  0.043930  0.047736   -0.027929     0.027929 -0.297876   \n",
       "Trichy       0.182486  0.186706   -0.192979     0.192979 -0.188430   \n",
       "Tuticorin   -0.197143 -0.307805   -0.064122     0.064122 -0.090901   \n",
       "\n",
       "             Coimbatore  Cuddalore   Madurai    Mettur     Salem  Thoothukudi  \\\n",
       "AQI           -0.056296   0.133554 -0.099989  0.114920 -0.063568     0.043930   \n",
       "year          -0.056847   0.158258  0.011918  0.138348  0.015006     0.047736   \n",
       "Industrial    -0.054400  -0.017697 -0.038487  0.038661 -0.209332    -0.027929   \n",
       "Residential    0.054400   0.017697  0.038487 -0.038661  0.209332     0.027929   \n",
       "Chennai       -0.331489  -0.137904 -0.317511 -0.118663 -0.204397    -0.297876   \n",
       "Coimbatore     1.000000  -0.078454 -0.180633 -0.067508 -0.116282    -0.169463   \n",
       "Cuddalore     -0.078454   1.000000 -0.075146 -0.028084 -0.048375    -0.070499   \n",
       "Madurai       -0.180633  -0.075146  1.000000 -0.064661 -0.111379    -0.162317   \n",
       "Mettur        -0.067508  -0.028084 -0.064661  1.000000 -0.041626    -0.060663   \n",
       "Salem         -0.116282  -0.048375 -0.111379 -0.041626  1.000000    -0.104491   \n",
       "Thoothukudi   -0.169463  -0.070499 -0.162317 -0.060663 -0.104491     1.000000   \n",
       "Trichy        -0.107199  -0.044596 -0.102678 -0.038374 -0.066099    -0.096329   \n",
       "Tuticorin     -0.051714  -0.021514 -0.049533 -0.018512 -0.031887    -0.046470   \n",
       "\n",
       "               Trichy  Tuticorin  \n",
       "AQI          0.182486  -0.197143  \n",
       "year         0.186706  -0.307805  \n",
       "Industrial  -0.192979  -0.064122  \n",
       "Residential  0.192979   0.064122  \n",
       "Chennai     -0.188430  -0.090901  \n",
       "Coimbatore  -0.107199  -0.051714  \n",
       "Cuddalore   -0.044596  -0.021514  \n",
       "Madurai     -0.102678  -0.049533  \n",
       "Mettur      -0.038374  -0.018512  \n",
       "Salem       -0.066099  -0.031887  \n",
       "Thoothukudi -0.096329  -0.046470  \n",
       "Trichy       1.000000  -0.029396  \n",
       "Tuticorin   -0.029396   1.000000  "
      ]
     },
     "execution_count": 53,
     "metadata": {},
     "output_type": "execute_result"
    }
   ],
   "source": [
    "td.corr()"
   ]
  },
  {
   "cell_type": "markdown",
   "metadata": {},
   "source": [
    "\"year\" has good correlation with \"AQI\" when compared to others"
   ]
  },
  {
   "cell_type": "code",
   "execution_count": 54,
   "metadata": {},
   "outputs": [
    {
     "data": {
      "text/plain": [
       "<AxesSubplot:xlabel='year'>"
      ]
     },
     "execution_count": 54,
     "metadata": {},
     "output_type": "execute_result"
    },
    {
     "data": {
      "image/png": "[encoded data removed]",
      "text/plain": [
       "<Figure size 432x288 with 1 Axes>"
      ]
     },
     "metadata": {
      "needs_background": "light"
     },
     "output_type": "display_data"
    }
   ],
   "source": [
    "yr_wise = pd.pivot_table(td, values=['AQI'],index='year')\n",
    "yr_wise.loc[:,['AQI']].head(30).plot(kind='bar')"
   ]
  },
  {
   "cell_type": "code",
   "execution_count": 55,
   "metadata": {},
   "outputs": [],
   "source": [
    "from sklearn.model_selection import train_test_split"
   ]
  },
  {
   "cell_type": "code",
   "execution_count": 56,
   "metadata": {},
   "outputs": [],
   "source": [
    "X=td.drop(\"AQI\",axis=1)\n",
    "y=td[\"AQI\"]"
   ]
  },
  {
   "cell_type": "code",
   "execution_count": 57,
   "metadata": {},
   "outputs": [],
   "source": [
    "X_train,X_test,y_train,y_test= train_test_split(X,y,test_size=0.30,random_state=25)"
   ]
  },
  {
   "cell_type": "markdown",
   "metadata": {},
   "source": [
    "# Model fittings"
   ]
  },
  {
   "cell_type": "markdown",
   "metadata": {},
   "source": [
    "### Simple Linear Regression"
   ]
  },
  {
   "cell_type": "code",
   "execution_count": 58,
   "metadata": {},
   "outputs": [],
   "source": [
    "from sklearn.linear_model import LinearRegression"
   ]
  },
  {
   "cell_type": "code",
   "execution_count": 59,
   "metadata": {},
   "outputs": [
    {
     "data": {
      "text/plain": [
       "LinearRegression()"
      ]
     },
     "execution_count": 59,
     "metadata": {},
     "output_type": "execute_result"
    }
   ],
   "source": [
    "lin_mod = LinearRegression()\n",
    "lin_mod.fit(X_train, y_train)"
   ]
  },
  {
   "cell_type": "code",
   "execution_count": 60,
   "metadata": {},
   "outputs": [
    {
     "data": {
      "text/plain": [
       "0.44536015005067575"
      ]
     },
     "execution_count": 60,
     "metadata": {},
     "output_type": "execute_result"
    }
   ],
   "source": [
    "lin_mod.score(X_train, y_train )"
   ]
  },
  {
   "cell_type": "code",
   "execution_count": 61,
   "metadata": {},
   "outputs": [
    {
     "data": {
      "text/plain": [
       "0.4674066110791505"
      ]
     },
     "execution_count": 61,
     "metadata": {},
     "output_type": "execute_result"
    }
   ],
   "source": [
    "lin_mod.score(X_test, y_test)"
   ]
  },
  {
   "cell_type": "code",
   "execution_count": 62,
   "metadata": {},
   "outputs": [],
   "source": [
    "# Less Score. Underfitting"
   ]
  },
  {
   "cell_type": "markdown",
   "metadata": {},
   "source": [
    "### Polynomial Regression "
   ]
  },
  {
   "cell_type": "code",
   "execution_count": 63,
   "metadata": {},
   "outputs": [],
   "source": [
    "from sklearn.preprocessing import PolynomialFeatures\n",
    "from sklearn import linear_model\n",
    "\n",
    "poly = PolynomialFeatures(degree=2, interaction_only=True)\n",
    "X_train2 = poly.fit_transform(X_train)\n",
    "X_test2 = poly.fit_transform(X_test)\n",
    "\n",
    "poly_clf = linear_model.LinearRegression()\n",
    "\n",
    "poly_clf.fit(X_train2, y_train)\n",
    "\n",
    "y_pred = poly_clf.predict(X_test2)\n",
    "\n",
    "#print(y_pred)"
   ]
  },
  {
   "cell_type": "code",
   "execution_count": 64,
   "metadata": {},
   "outputs": [
    {
     "name": "stdout",
     "output_type": "stream",
     "text": [
      "0.5105880112206782\n"
     ]
    }
   ],
   "source": [
    "print(poly_clf.score(X_train2, y_train))"
   ]
  },
  {
   "cell_type": "code",
   "execution_count": 65,
   "metadata": {},
   "outputs": [
    {
     "name": "stdout",
     "output_type": "stream",
     "text": [
      "0.5323421001846418\n"
     ]
    }
   ],
   "source": [
    "print(poly_clf.score(X_test2, y_test))"
   ]
  },
  {
   "cell_type": "code",
   "execution_count": 66,
   "metadata": {},
   "outputs": [],
   "source": [
    "# Trying with higher degrees"
   ]
  },
  {
   "cell_type": "code",
   "execution_count": 67,
   "metadata": {},
   "outputs": [
    {
     "name": "stdout",
     "output_type": "stream",
     "text": [
      "0.4860537926261391\n",
      "0.49428024267837467\n"
     ]
    }
   ],
   "source": [
    "poly = PolynomialFeatures(degree=3, interaction_only=True)\n",
    "X_train2 = poly.fit_transform(X_train)\n",
    "X_test2 = poly.fit_transform(X_test)\n",
    "\n",
    "poly_clf = linear_model.LinearRegression()\n",
    "\n",
    "poly_clf.fit(X_train2, y_train)\n",
    "\n",
    "y_pred = poly_clf.predict(X_test2)\n",
    "print(poly_clf.score(X_train2, y_train))\n",
    "print(poly_clf.score(X_test2, y_test))"
   ]
  },
  {
   "cell_type": "code",
   "execution_count": 68,
   "metadata": {},
   "outputs": [],
   "source": [
    "# Reduced scores than degree = 2"
   ]
  },
  {
   "cell_type": "code",
   "execution_count": 69,
   "metadata": {},
   "outputs": [
    {
     "name": "stdout",
     "output_type": "stream",
     "text": [
      "0.5102209409439443\n",
      "0.530387659490118\n"
     ]
    }
   ],
   "source": [
    "poly = PolynomialFeatures(degree=4, interaction_only=True)\n",
    "X_train2 = poly.fit_transform(X_train)\n",
    "X_test2 = poly.fit_transform(X_test)\n",
    "\n",
    "poly_clf = linear_model.LinearRegression()\n",
    "\n",
    "poly_clf.fit(X_train2, y_train)\n",
    "\n",
    "y_pred = poly_clf.predict(X_test2)\n",
    "print(poly_clf.score(X_train2, y_train))\n",
    "print(poly_clf.score(X_test2, y_test))"
   ]
  },
  {
   "cell_type": "code",
   "execution_count": 70,
   "metadata": {},
   "outputs": [],
   "source": [
    "# Nearly score to degree = 2. But still less than degree = 2"
   ]
  },
  {
   "cell_type": "code",
   "execution_count": 71,
   "metadata": {},
   "outputs": [
    {
     "name": "stdout",
     "output_type": "stream",
     "text": [
      "0.506501741701051\n",
      "0.5303706868228454\n"
     ]
    }
   ],
   "source": [
    "poly = PolynomialFeatures(degree=5, interaction_only=True)\n",
    "X_train2 = poly.fit_transform(X_train)\n",
    "X_test2 = poly.fit_transform(X_test)\n",
    "\n",
    "poly_clf = linear_model.LinearRegression()\n",
    "\n",
    "poly_clf.fit(X_train2, y_train)\n",
    "\n",
    "y_pred = poly_clf.predict(X_test2)\n",
    "print(poly_clf.score(X_train2, y_train))\n",
    "print(poly_clf.score(X_test2, y_test))"
   ]
  },
  {
   "cell_type": "code",
   "execution_count": 72,
   "metadata": {},
   "outputs": [],
   "source": [
    "# Score reduces as degree increases"
   ]
  },
  {
   "cell_type": "code",
   "execution_count": 73,
   "metadata": {},
   "outputs": [
    {
     "name": "stdout",
     "output_type": "stream",
     "text": [
      "0.506501741701051\n",
      "0.5303706868228454\n"
     ]
    }
   ],
   "source": [
    "poly = PolynomialFeatures(degree=6, interaction_only=True)\n",
    "X_train2 = poly.fit_transform(X_train)\n",
    "X_test2 = poly.fit_transform(X_test)\n",
    "\n",
    "poly_clf = linear_model.LinearRegression()\n",
    "\n",
    "poly_clf.fit(X_train2, y_train)\n",
    "\n",
    "y_pred = poly_clf.predict(X_test2)\n",
    "print(poly_clf.score(X_train2, y_train))\n",
    "print(poly_clf.score(X_test2, y_test))"
   ]
  },
  {
   "cell_type": "code",
   "execution_count": 74,
   "metadata": {},
   "outputs": [],
   "source": [
    "# Same score as prev degree. \n",
    "#Underfitting"
   ]
  },
  {
   "cell_type": "markdown",
   "metadata": {},
   "source": [
    "### K-Nearest Neighbour"
   ]
  },
  {
   "cell_type": "code",
   "execution_count": 75,
   "metadata": {},
   "outputs": [],
   "source": [
    "from sklearn.neighbors import KNeighborsRegressor\n",
    "from scipy.stats import zscore"
   ]
  },
  {
   "cell_type": "code",
   "execution_count": 76,
   "metadata": {},
   "outputs": [],
   "source": [
    "XScaled = X.apply(zscore)"
   ]
  },
  {
   "cell_type": "code",
   "execution_count": 77,
   "metadata": {},
   "outputs": [],
   "source": [
    "NNH = KNeighborsRegressor(n_neighbors = 27, metric = 'euclidean')"
   ]
  },
  {
   "cell_type": "code",
   "execution_count": 78,
   "metadata": {},
   "outputs": [
    {
     "data": {
      "text/plain": [
       "KNeighborsRegressor(metric='euclidean', n_neighbors=27)"
      ]
     },
     "execution_count": 78,
     "metadata": {},
     "output_type": "execute_result"
    }
   ],
   "source": [
    "NNH.fit(X_train,y_train)"
   ]
  },
  {
   "cell_type": "code",
   "execution_count": 79,
   "metadata": {},
   "outputs": [
    {
     "name": "stdout",
     "output_type": "stream",
     "text": [
      "0.7239080609538029\n",
      "0.7706168194875633\n"
     ]
    }
   ],
   "source": [
    "predicted_labels = NNH.predict(X_test)\n",
    "print(NNH.score(X_train, y_train))\n",
    "print(NNH.score(X_test,y_test))"
   ]
  },
  {
   "cell_type": "markdown",
   "metadata": {},
   "source": [
    "Score Better than Linear Regression models. Trying with different n_neighbours"
   ]
  },
  {
   "cell_type": "code",
   "execution_count": 80,
   "metadata": {},
   "outputs": [
    {
     "name": "stdout",
     "output_type": "stream",
     "text": [
      "0.723809498088116\n",
      "0.7719586808848092\n"
     ]
    }
   ],
   "source": [
    "NNH = KNeighborsRegressor(n_neighbors = 30) # default metric = 'minkowski'\n",
    "NNH.fit(X_train,y_train)\n",
    "predicted_labels = NNH.predict(X_test)\n",
    "print(NNH.score(X_train, y_train))\n",
    "print(NNH.score(X_test,y_test))"
   ]
  },
  {
   "cell_type": "code",
   "execution_count": 81,
   "metadata": {},
   "outputs": [
    {
     "name": "stdout",
     "output_type": "stream",
     "text": [
      "0.7251509518338644\n",
      "0.7705163784261739\n"
     ]
    }
   ],
   "source": [
    "NNH = KNeighborsRegressor(n_neighbors = 55)\n",
    "NNH.fit(X_train,y_train)\n",
    "predicted_labels = NNH.predict(X_test)\n",
    "print(NNH.score(X_train, y_train))\n",
    "print(NNH.score(X_test,y_test))"
   ]
  },
  {
   "cell_type": "code",
   "execution_count": 82,
   "metadata": {},
   "outputs": [
    {
     "name": "stdout",
     "output_type": "stream",
     "text": [
      "0.7240609430015734\n",
      "0.7685054030238094\n"
     ]
    }
   ],
   "source": [
    "NNH = KNeighborsRegressor(n_neighbors = 70)\n",
    "NNH.fit(X_train,y_train)\n",
    "predicted_labels = NNH.predict(X_test)\n",
    "print(NNH.score(X_train, y_train))\n",
    "print(NNH.score(X_test,y_test))"
   ]
  },
  {
   "cell_type": "code",
   "execution_count": 83,
   "metadata": {},
   "outputs": [],
   "source": [
    "# if we increase n_neigbours more than 55, train fitting increases but test fit decreases. So 55 is the optimum one"
   ]
  },
  {
   "cell_type": "raw",
   "metadata": {},
   "source": [
    "Trying with different \"metrics\""
   ]
  },
  {
   "cell_type": "code",
   "execution_count": 84,
   "metadata": {},
   "outputs": [
    {
     "name": "stdout",
     "output_type": "stream",
     "text": [
      "0.7251509518338644\n",
      "0.7705163784261739\n"
     ]
    }
   ],
   "source": [
    "NNH = KNeighborsRegressor(n_neighbors = 55, metric = 'euclidean')\n",
    "NNH.fit(X_train,y_train)\n",
    "predicted_labels = NNH.predict(X_test)\n",
    "print(NNH.score(X_train, y_train))\n",
    "print(NNH.score(X_test,y_test))"
   ]
  },
  {
   "cell_type": "code",
   "execution_count": 85,
   "metadata": {},
   "outputs": [],
   "source": [
    "# Better result dan \"minskowki\""
   ]
  },
  {
   "cell_type": "code",
   "execution_count": 86,
   "metadata": {},
   "outputs": [
    {
     "name": "stdout",
     "output_type": "stream",
     "text": [
      "0.7235162915287796\n",
      "0.7722764205003013\n"
     ]
    }
   ],
   "source": [
    "NNH = KNeighborsRegressor(n_neighbors = 35, metric = 'euclidean')\n",
    "NNH.fit(X_train,y_train)\n",
    "predicted_labels = NNH.predict(X_test)\n",
    "print(NNH.score(X_train, y_train))\n",
    "print(NNH.score(X_test,y_test))"
   ]
  },
  {
   "cell_type": "code",
   "execution_count": 87,
   "metadata": {},
   "outputs": [
    {
     "name": "stdout",
     "output_type": "stream",
     "text": [
      "0.723809498088116\n",
      "0.7719586808848092\n"
     ]
    }
   ],
   "source": [
    "NNH = KNeighborsRegressor(n_neighbors = 30, metric = 'euclidean')\n",
    "NNH.fit(X_train,y_train)\n",
    "predicted_labels = NNH.predict(X_test)\n",
    "print(NNH.score(X_train, y_train))\n",
    "print(NNH.score(X_test,y_test))"
   ]
  },
  {
   "cell_type": "markdown",
   "metadata": {},
   "source": [
    "35 is the optimum one"
   ]
  },
  {
   "cell_type": "code",
   "execution_count": 88,
   "metadata": {},
   "outputs": [
    {
     "name": "stdout",
     "output_type": "stream",
     "text": [
      "0.7238308231819853\n",
      "0.7723429772126563\n"
     ]
    }
   ],
   "source": [
    "NNH = KNeighborsRegressor(n_neighbors = 35, metric = 'manhattan')\n",
    "NNH.fit(X_train,y_train)\n",
    "predicted_labels = NNH.predict(X_test)\n",
    "print(NNH.score(X_train, y_train))\n",
    "print(NNH.score(X_test,y_test))"
   ]
  },
  {
   "cell_type": "code",
   "execution_count": 89,
   "metadata": {},
   "outputs": [],
   "source": [
    "# Better than euclidean"
   ]
  },
  {
   "cell_type": "code",
   "execution_count": 90,
   "metadata": {},
   "outputs": [
    {
     "name": "stdout",
     "output_type": "stream",
     "text": [
      "0.7253762245673958\n",
      "0.7726679102657431\n"
     ]
    }
   ],
   "source": [
    "NNH = KNeighborsRegressor(n_neighbors = 45, metric = 'manhattan')\n",
    "NNH.fit(X_train,y_train)\n",
    "predicted_labels = NNH.predict(X_test)\n",
    "print(NNH.score(X_train, y_train))\n",
    "print(NNH.score(X_test,y_test))"
   ]
  },
  {
   "cell_type": "code",
   "execution_count": 91,
   "metadata": {},
   "outputs": [
    {
     "name": "stdout",
     "output_type": "stream",
     "text": [
      "0.7254198551302349\n",
      "0.7706201379619615\n"
     ]
    }
   ],
   "source": [
    "NNH = KNeighborsRegressor(n_neighbors = 55, metric = 'manhattan')\n",
    "NNH.fit(X_train,y_train)\n",
    "predicted_labels = NNH.predict(X_test)\n",
    "print(NNH.score(X_train, y_train))\n",
    "print(NNH.score(X_test,y_test))"
   ]
  },
  {
   "cell_type": "markdown",
   "metadata": {},
   "source": [
    "45 is optimum"
   ]
  },
  {
   "cell_type": "code",
   "execution_count": 92,
   "metadata": {},
   "outputs": [
    {
     "name": "stdout",
     "output_type": "stream",
     "text": [
      "0.7253762245673958\n",
      "0.7726679102657431\n"
     ]
    }
   ],
   "source": [
    "# Therefore best solution is for \n",
    "NNH = KNeighborsRegressor(n_neighbors = 45, metric = 'manhattan')\n",
    "NNH.fit(X_train,y_train)\n",
    "predicted_labels = NNH.predict(X_test)\n",
    "print(NNH.score(X_train, y_train))\n",
    "print(NNH.score(X_test,y_test))"
   ]
  },
  {
   "cell_type": "markdown",
   "metadata": {},
   "source": [
    "### SVM"
   ]
  },
  {
   "cell_type": "code",
   "execution_count": 93,
   "metadata": {},
   "outputs": [],
   "source": [
    "from sklearn import svm\n",
    "from sklearn.svm import SVR"
   ]
  },
  {
   "cell_type": "code",
   "execution_count": 94,
   "metadata": {},
   "outputs": [
    {
     "data": {
      "text/plain": [
       "SVR(C=2, gamma='auto')"
      ]
     },
     "execution_count": 94,
     "metadata": {},
     "output_type": "execute_result"
    }
   ],
   "source": [
    "reg= svm.SVR(kernel='rbf',gamma='auto', C=2)\n",
    "reg.fit(X_train,y_train)"
   ]
  },
  {
   "cell_type": "code",
   "execution_count": 95,
   "metadata": {},
   "outputs": [
    {
     "name": "stdout",
     "output_type": "stream",
     "text": [
      "0.6354904331368684\n",
      "0.6830057348761289\n"
     ]
    }
   ],
   "source": [
    "predicted_labels = reg.predict(X_test)\n",
    "print(reg.score(X_train,y_train))\n",
    "print(reg.score(X_test,y_test))"
   ]
  },
  {
   "cell_type": "code",
   "execution_count": 96,
   "metadata": {},
   "outputs": [],
   "source": [
    "# Score is less than KNN. Trying with other \"C\""
   ]
  },
  {
   "cell_type": "code",
   "execution_count": 97,
   "metadata": {
    "scrolled": true
   },
   "outputs": [
    {
     "name": "stdout",
     "output_type": "stream",
     "text": [
      "0.6828038722870845\n",
      "0.7269870381887611\n"
     ]
    }
   ],
   "source": [
    "reg= svm.SVR(kernel='rbf',gamma='auto', C=150)\n",
    "reg.fit(X_train,y_train)\n",
    "predicted_labels = reg.predict(X_test)\n",
    "print(reg.score(X_train,y_train))\n",
    "print(reg.score(X_test,y_test))"
   ]
  },
  {
   "cell_type": "code",
   "execution_count": 98,
   "metadata": {
    "scrolled": false
   },
   "outputs": [
    {
     "name": "stdout",
     "output_type": "stream",
     "text": [
      "0.6829413588653517\n",
      "0.7270026013101539\n"
     ]
    }
   ],
   "source": [
    "reg= svm.SVR(kernel='rbf',gamma='auto', C=160)\n",
    "reg.fit(X_train,y_train)\n",
    "predicted_labels = reg.predict(X_test)\n",
    "print(reg.score(X_train,y_train))\n",
    "print(reg.score(X_test,y_test))"
   ]
  },
  {
   "cell_type": "code",
   "execution_count": 99,
   "metadata": {},
   "outputs": [
    {
     "name": "stdout",
     "output_type": "stream",
     "text": [
      "0.6829543921026967\n",
      "0.7269851734153929\n"
     ]
    }
   ],
   "source": [
    "reg= svm.SVR(kernel='rbf',gamma='auto', C=163)\n",
    "reg.fit(X_train,y_train)\n",
    "predicted_labels = reg.predict(X_test)\n",
    "print(reg.score(X_train,y_train))\n",
    "print(reg.score(X_test,y_test))"
   ]
  },
  {
   "cell_type": "code",
   "execution_count": 100,
   "metadata": {},
   "outputs": [],
   "source": [
    "# as C increases after 160, score training score increases but test score decreases."
   ]
  },
  {
   "cell_type": "code",
   "execution_count": 101,
   "metadata": {},
   "outputs": [
    {
     "name": "stdout",
     "output_type": "stream",
     "text": [
      "-0.526948927297983\n",
      "-0.5899658122069891\n"
     ]
    }
   ],
   "source": [
    "reg= svm.SVR(kernel='sigmoid',gamma='auto', C=80)\n",
    "reg.fit(X_train,y_train)\n",
    "predicted_labels = reg.predict(X_test)\n",
    "print(reg.score(X_train,y_train))\n",
    "print(reg.score(X_test,y_test))"
   ]
  },
  {
   "cell_type": "code",
   "execution_count": 102,
   "metadata": {},
   "outputs": [],
   "source": [
    "# Using poly kernel takes lot of time to run"
   ]
  },
  {
   "cell_type": "code",
   "execution_count": 103,
   "metadata": {},
   "outputs": [
    {
     "name": "stdout",
     "output_type": "stream",
     "text": [
      "0.6829413588653517\n",
      "0.7270026013101539\n"
     ]
    }
   ],
   "source": [
    "# Optimum value for SVM is\n",
    "reg= svm.SVR(kernel='rbf',gamma='auto', C=160)\n",
    "reg.fit(X_train,y_train)\n",
    "predicted_labels = reg.predict(X_test)\n",
    "print(reg.score(X_train,y_train))\n",
    "print(reg.score(X_test,y_test))"
   ]
  },
  {
   "cell_type": "markdown",
   "metadata": {},
   "source": [
    "But not as good as KNN"
   ]
  },
  {
   "cell_type": "markdown",
   "metadata": {},
   "source": [
    "### Decision Tree"
   ]
  },
  {
   "cell_type": "code",
   "execution_count": 104,
   "metadata": {},
   "outputs": [],
   "source": [
    "from sklearn.tree import DecisionTreeRegressor"
   ]
  },
  {
   "cell_type": "code",
   "execution_count": 105,
   "metadata": {},
   "outputs": [],
   "source": [
    "dTree= DecisionTreeRegressor(criterion='mse',splitter='best',random_state=25,max_depth=5)"
   ]
  },
  {
   "cell_type": "code",
   "execution_count": 106,
   "metadata": {},
   "outputs": [
    {
     "data": {
      "text/plain": [
       "DecisionTreeRegressor(max_depth=5, random_state=25)"
      ]
     },
     "execution_count": 106,
     "metadata": {},
     "output_type": "execute_result"
    }
   ],
   "source": [
    "dTree.fit(X_train,y_train)"
   ]
  },
  {
   "cell_type": "code",
   "execution_count": 107,
   "metadata": {},
   "outputs": [
    {
     "name": "stdout",
     "output_type": "stream",
     "text": [
      "0.6987590136971868\n",
      "0.7490946656981097\n"
     ]
    }
   ],
   "source": [
    "print(dTree.score(X_train,y_train)) \n",
    "print(dTree.score(X_test,y_test))"
   ]
  },
  {
   "cell_type": "markdown",
   "metadata": {},
   "source": [
    "Trying with different \"max_depth\""
   ]
  },
  {
   "cell_type": "code",
   "execution_count": 108,
   "metadata": {
    "scrolled": true
   },
   "outputs": [
    {
     "name": "stdout",
     "output_type": "stream",
     "text": [
      "0.7320163141352926\n",
      "0.7764637553626321\n"
     ]
    }
   ],
   "source": [
    "dTree= DecisionTreeRegressor(criterion='mse',splitter='best',random_state=25,max_depth=14)\n",
    "dTree.fit(X_train,y_train)\n",
    "print(dTree.score(X_train,y_train)) \n",
    "print(dTree.score(X_test,y_test))"
   ]
  },
  {
   "cell_type": "code",
   "execution_count": 109,
   "metadata": {},
   "outputs": [],
   "source": [
    "# No improvements in score after \"max_depth = 14\"\n",
    "# Trying with different criteria"
   ]
  },
  {
   "cell_type": "code",
   "execution_count": 110,
   "metadata": {},
   "outputs": [
    {
     "name": "stdout",
     "output_type": "stream",
     "text": [
      "0.7152580836801676\n",
      "0.7650663853334146\n"
     ]
    }
   ],
   "source": [
    "dTree= DecisionTreeRegressor(criterion='mae',splitter='best',random_state=25,max_depth=20)\n",
    "dTree.fit(X_train,y_train)\n",
    "print(dTree.score(X_train,y_train)) \n",
    "print(dTree.score(X_test,y_test))"
   ]
  },
  {
   "cell_type": "code",
   "execution_count": 111,
   "metadata": {},
   "outputs": [],
   "source": [
    "# mae Not better than mse"
   ]
  },
  {
   "cell_type": "code",
   "execution_count": 112,
   "metadata": {},
   "outputs": [
    {
     "name": "stdout",
     "output_type": "stream",
     "text": [
      "0.7320320350190757\n",
      "0.7764581508742332\n"
     ]
    }
   ],
   "source": [
    "dTree= DecisionTreeRegressor(criterion='friedman_mse',splitter='best',random_state=25,max_depth=15)\n",
    "dTree.fit(X_train,y_train)\n",
    "print(dTree.score(X_train,y_train)) \n",
    "print(dTree.score(X_test,y_test))"
   ]
  },
  {
   "cell_type": "code",
   "execution_count": 113,
   "metadata": {},
   "outputs": [],
   "source": [
    "# friedman_mse same as mse"
   ]
  },
  {
   "cell_type": "code",
   "execution_count": 114,
   "metadata": {
    "scrolled": true
   },
   "outputs": [
    {
     "name": "stdout",
     "output_type": "stream",
     "text": [
      "0.7320163141352926\n",
      "0.7764637553626321\n"
     ]
    }
   ],
   "source": [
    "# Optimum is \n",
    "dTree= DecisionTreeRegressor(criterion='mse',splitter='best',random_state=25,max_depth=14)\n",
    "dTree.fit(X_train,y_train)\n",
    "print(dTree.score(X_train,y_train)) \n",
    "print(dTree.score(X_test,y_test))"
   ]
  },
  {
   "cell_type": "code",
   "execution_count": 115,
   "metadata": {},
   "outputs": [],
   "source": [
    "dTree= DecisionTreeRegressor(criterion='mse',splitter='best',random_state=25,max_depth=14)\n",
    "dTree.fit(X_train,y_train)\n",
    "dTree_tr=dTree.score(X_train,y_train)\n",
    "dTree_ts=dTree.score(X_test,y_test)"
   ]
  },
  {
   "cell_type": "markdown",
   "metadata": {},
   "source": [
    "Better than KNN"
   ]
  },
  {
   "cell_type": "markdown",
   "metadata": {},
   "source": [
    "### Bagging"
   ]
  },
  {
   "cell_type": "code",
   "execution_count": 116,
   "metadata": {},
   "outputs": [],
   "source": [
    "from sklearn.ensemble import BaggingRegressor"
   ]
  },
  {
   "cell_type": "code",
   "execution_count": 117,
   "metadata": {},
   "outputs": [
    {
     "name": "stdout",
     "output_type": "stream",
     "text": [
      "0.7315720767332268\n",
      "0.7762732523198246\n"
     ]
    }
   ],
   "source": [
    "bgr= BaggingRegressor (n_estimators=9,base_estimator=dTree,random_state=25)\n",
    "bgr=bgr.fit(X_train,y_train)\n",
    "print(bgr.score(X_train,y_train))\n",
    "print(bgr.score(X_test,y_test))"
   ]
  },
  {
   "cell_type": "code",
   "execution_count": 118,
   "metadata": {},
   "outputs": [],
   "source": [
    "# trying with different \"n_estimators\""
   ]
  },
  {
   "cell_type": "code",
   "execution_count": 119,
   "metadata": {},
   "outputs": [
    {
     "name": "stdout",
     "output_type": "stream",
     "text": [
      "0.7317520849084952\n",
      "0.7759680322824837\n"
     ]
    }
   ],
   "source": [
    "bgr= BaggingRegressor (n_estimators=12,base_estimator=dTree,random_state=25)\n",
    "bgr=bgr.fit(X_train,y_train)\n",
    "print(bgr.score(X_train,y_train))\n",
    "print(bgr.score(X_test,y_test))"
   ]
  },
  {
   "cell_type": "code",
   "execution_count": 120,
   "metadata": {},
   "outputs": [],
   "source": [
    "# Increase in \"n_estimators\" increases train score but decreases test score. so \"n_estimators = 9\" is good"
   ]
  },
  {
   "cell_type": "markdown",
   "metadata": {},
   "source": [
    "Not as good as Decision Tree"
   ]
  },
  {
   "cell_type": "markdown",
   "metadata": {},
   "source": [
    "### AdaBoost"
   ]
  },
  {
   "cell_type": "code",
   "execution_count": 121,
   "metadata": {},
   "outputs": [],
   "source": [
    "from sklearn.ensemble import AdaBoostRegressor"
   ]
  },
  {
   "cell_type": "code",
   "execution_count": 122,
   "metadata": {},
   "outputs": [
    {
     "name": "stdout",
     "output_type": "stream",
     "text": [
      "0.5648604617431005\n",
      "0.6273545061897812\n"
     ]
    }
   ],
   "source": [
    "adr= AdaBoostRegressor (n_estimators=5,random_state=25, loss ='linear') # loss = 'linear' is default\n",
    "adr=adr.fit(X_train,y_train)\n",
    "print(adr.score(X_train,y_train))\n",
    "print(adr.score(X_test,y_test))"
   ]
  },
  {
   "cell_type": "code",
   "execution_count": 123,
   "metadata": {},
   "outputs": [],
   "source": [
    "# trying with different \"n_estimators\""
   ]
  },
  {
   "cell_type": "code",
   "execution_count": 124,
   "metadata": {},
   "outputs": [
    {
     "name": "stdout",
     "output_type": "stream",
     "text": [
      "0.5648604617431005\n",
      "0.6273545061897812\n"
     ]
    }
   ],
   "source": [
    "adr= AdaBoostRegressor (n_estimators=15,random_state=25,loss ='linear')\n",
    "adr=adr.fit(X_train,y_train)\n",
    "print(adr.score(X_train,y_train))\n",
    "print(adr.score(X_test,y_test))"
   ]
  },
  {
   "cell_type": "code",
   "execution_count": 125,
   "metadata": {},
   "outputs": [],
   "source": [
    "# Increase in \"n_estimators\" increases train score but decreases test score. so \"n_estimators = 5\" is good"
   ]
  },
  {
   "cell_type": "code",
   "execution_count": 126,
   "metadata": {},
   "outputs": [
    {
     "name": "stdout",
     "output_type": "stream",
     "text": [
      "0.5806460542188621\n",
      "0.6450872934033688\n"
     ]
    }
   ],
   "source": [
    "adr= AdaBoostRegressor (n_estimators=7,random_state=25,loss ='square')\n",
    "adr=adr.fit(X_train,y_train)\n",
    "print(adr.score(X_train,y_train))\n",
    "print(adr.score(X_test,y_test))"
   ]
  },
  {
   "cell_type": "code",
   "execution_count": 127,
   "metadata": {},
   "outputs": [
    {
     "name": "stdout",
     "output_type": "stream",
     "text": [
      "0.672733039307424\n",
      "0.723678044480647\n"
     ]
    }
   ],
   "source": [
    "adr= AdaBoostRegressor (n_estimators=5,random_state=25,loss ='exponential')\n",
    "adr=adr.fit(X_train,y_train)\n",
    "print(adr.score(X_train,y_train))\n",
    "print(adr.score(X_test,y_test))"
   ]
  },
  {
   "cell_type": "markdown",
   "metadata": {},
   "source": [
    "Not good as Decision Tree"
   ]
  },
  {
   "cell_type": "markdown",
   "metadata": {},
   "source": [
    "### Gradient Boosting"
   ]
  },
  {
   "cell_type": "code",
   "execution_count": 128,
   "metadata": {},
   "outputs": [],
   "source": [
    "from sklearn.ensemble import GradientBoostingRegressor"
   ]
  },
  {
   "cell_type": "code",
   "execution_count": 129,
   "metadata": {},
   "outputs": [
    {
     "name": "stdout",
     "output_type": "stream",
     "text": [
      "0.5842205537720442\n",
      "0.6290894003600735\n"
     ]
    }
   ],
   "source": [
    "gbr= GradientBoostingRegressor (n_estimators=10,random_state=25)\n",
    "gbr=gbr.fit(X_train,y_train)\n",
    "print(gbr.score(X_train,y_train))\n",
    "print(gbr.score(X_test,y_test))"
   ]
  },
  {
   "cell_type": "code",
   "execution_count": 130,
   "metadata": {},
   "outputs": [],
   "source": [
    "# trying with different \"n_estimators\""
   ]
  },
  {
   "cell_type": "code",
   "execution_count": 131,
   "metadata": {},
   "outputs": [
    {
     "name": "stdout",
     "output_type": "stream",
     "text": [
      "0.7247539388723996\n",
      "0.7751318074743498\n"
     ]
    }
   ],
   "source": [
    "gbr= GradientBoostingRegressor (n_estimators=400,random_state=25)\n",
    "gbr=gbr.fit(X_train,y_train)\n",
    "print(gbr.score(X_train,y_train))\n",
    "print(gbr.score(X_test,y_test))"
   ]
  },
  {
   "cell_type": "code",
   "execution_count": 132,
   "metadata": {},
   "outputs": [
    {
     "name": "stdout",
     "output_type": "stream",
     "text": [
      "0.7248060365277629\n",
      "0.775075734837311\n"
     ]
    }
   ],
   "source": [
    "gbr= GradientBoostingRegressor (n_estimators=410,random_state=25)\n",
    "gbr=gbr.fit(X_train,y_train)\n",
    "print(gbr.score(X_train,y_train))\n",
    "print(gbr.score(X_test,y_test))"
   ]
  },
  {
   "cell_type": "code",
   "execution_count": 133,
   "metadata": {},
   "outputs": [],
   "source": [
    "# Increase in \"n_estimators\" beyond 400, increases train score but decreases test score. so \"n_estimators = 400\" is good"
   ]
  },
  {
   "cell_type": "code",
   "execution_count": 134,
   "metadata": {
    "scrolled": true
   },
   "outputs": [
    {
     "name": "stdout",
     "output_type": "stream",
     "text": [
      "0.7247539388723996\n",
      "0.7751318074743498\n"
     ]
    }
   ],
   "source": [
    "# Optimum is \n",
    "gbr= GradientBoostingRegressor (n_estimators=400,random_state=25)\n",
    "gbr=gbr.fit(X_train,y_train)\n",
    "print(gbr.score(X_train,y_train))\n",
    "print(gbr.score(X_test,y_test))"
   ]
  },
  {
   "cell_type": "code",
   "execution_count": 135,
   "metadata": {},
   "outputs": [],
   "source": [
    "gbr= GradientBoostingRegressor (n_estimators=400,random_state=25)\n",
    "gbr=gbr.fit(X_train,y_train)\n",
    "gbr_tr= gbr.score(X_train,y_train)\n",
    "gbr_ts= gbr.score(X_test,y_test)"
   ]
  },
  {
   "cell_type": "markdown",
   "metadata": {},
   "source": [
    "Very near to Decision Tree.\n",
    "\n",
    "Score of Decision Tree\n",
    "\n",
    "train - 0.7320163141352926\n",
    "test - 0.7764637553626321"
   ]
  },
  {
   "cell_type": "markdown",
   "metadata": {},
   "source": [
    "### Random Forest"
   ]
  },
  {
   "cell_type": "code",
   "execution_count": 136,
   "metadata": {},
   "outputs": [],
   "source": [
    "from sklearn.ensemble import RandomForestRegressor"
   ]
  },
  {
   "cell_type": "code",
   "execution_count": 137,
   "metadata": {},
   "outputs": [
    {
     "name": "stdout",
     "output_type": "stream",
     "text": [
      "0.7316928947040389\n",
      "0.7761367960037955\n"
     ]
    }
   ],
   "source": [
    "rfr= RandomForestRegressor (n_estimators=10,random_state=25,max_features=5)\n",
    "rfr=rfr.fit(X_train,y_train)\n",
    "print(rfr.score(X_train,y_train))\n",
    "print(rfr.score(X_test,y_test))"
   ]
  },
  {
   "cell_type": "code",
   "execution_count": 138,
   "metadata": {},
   "outputs": [],
   "source": [
    "# trying with different \"n_estimators\""
   ]
  },
  {
   "cell_type": "code",
   "execution_count": 139,
   "metadata": {},
   "outputs": [
    {
     "name": "stdout",
     "output_type": "stream",
     "text": [
      "0.7317456980511001\n",
      "0.776008309930724\n"
     ]
    }
   ],
   "source": [
    "rfr= RandomForestRegressor (n_estimators=11,random_state=25,max_features=5)\n",
    "rfr=rfr.fit(X_train,y_train)\n",
    "print(rfr.score(X_train,y_train))\n",
    "print(rfr.score(X_test,y_test))"
   ]
  },
  {
   "cell_type": "code",
   "execution_count": 140,
   "metadata": {},
   "outputs": [],
   "source": [
    "# No effect"
   ]
  },
  {
   "cell_type": "code",
   "execution_count": 141,
   "metadata": {},
   "outputs": [],
   "source": [
    "# trying with different \"max_features\""
   ]
  },
  {
   "cell_type": "code",
   "execution_count": 142,
   "metadata": {
    "scrolled": true
   },
   "outputs": [
    {
     "name": "stdout",
     "output_type": "stream",
     "text": [
      "0.7317018765899191\n",
      "0.7761620422920031\n"
     ]
    }
   ],
   "source": [
    "rfr= RandomForestRegressor (n_estimators=10,random_state=25,max_features=10)\n",
    "rfr=rfr.fit(X_train,y_train)\n",
    "print(rfr.score(X_train,y_train))\n",
    "print(rfr.score(X_test,y_test))"
   ]
  },
  {
   "cell_type": "code",
   "execution_count": 143,
   "metadata": {},
   "outputs": [],
   "source": [
    "rfr= RandomForestRegressor (n_estimators=10,random_state=25,max_features=10)\n",
    "rfr=rfr.fit(X_train,y_train)\n",
    "rfr_tr = rfr.score(X_train,y_train)\n",
    "rfr_ts = rfr.score(X_test,y_test)"
   ]
  },
  {
   "cell_type": "code",
   "execution_count": 144,
   "metadata": {},
   "outputs": [],
   "source": [
    "# the above one is optimum"
   ]
  },
  {
   "cell_type": "markdown",
   "metadata": {},
   "source": [
    "Score Very similar to Decision Tree, Gradient Boosting"
   ]
  },
  {
   "cell_type": "markdown",
   "metadata": {},
   "source": [
    "# Therefore the models which perform well are"
   ]
  },
  {
   "cell_type": "code",
   "execution_count": 145,
   "metadata": {},
   "outputs": [
    {
     "data": {
      "text/html": [
       "<div>\n",
       "<style scoped>\n",
       "    .dataframe tbody tr th:only-of-type {\n",
       "        vertical-align: middle;\n",
       "    }\n",
       "\n",
       "    .dataframe tbody tr th {\n",
       "        vertical-align: top;\n",
       "    }\n",
       "\n",
       "    .dataframe thead th {\n",
       "        text-align: right;\n",
       "    }\n",
       "</style>\n",
       "<table border=\"1\" class=\"dataframe\">\n",
       "  <thead>\n",
       "    <tr style=\"text-align: right;\">\n",
       "      <th></th>\n",
       "      <th>Method</th>\n",
       "      <th>Train Score</th>\n",
       "      <th>Test Score</th>\n",
       "    </tr>\n",
       "  </thead>\n",
       "  <tbody>\n",
       "    <tr>\n",
       "      <th>0</th>\n",
       "      <td>DecisionTree</td>\n",
       "      <td>0.732016</td>\n",
       "      <td>0.776464</td>\n",
       "    </tr>\n",
       "    <tr>\n",
       "      <th>1</th>\n",
       "      <td>RandomForest</td>\n",
       "      <td>0.724754</td>\n",
       "      <td>0.775132</td>\n",
       "    </tr>\n",
       "    <tr>\n",
       "      <th>2</th>\n",
       "      <td>RandomForest</td>\n",
       "      <td>0.731702</td>\n",
       "      <td>0.776162</td>\n",
       "    </tr>\n",
       "  </tbody>\n",
       "</table>\n",
       "</div>"
      ],
      "text/plain": [
       "         Method  Train Score  Test Score\n",
       "0  DecisionTree     0.732016    0.776464\n",
       "1  RandomForest     0.724754    0.775132\n",
       "2  RandomForest     0.731702    0.776162"
      ]
     },
     "execution_count": 145,
     "metadata": {},
     "output_type": "execute_result"
    }
   ],
   "source": [
    "score_res = pd.DataFrame({'Method':['DecisionTree','RandomForest','RandomForest'],\n",
    "                          'Train Score':[dTree_tr, gbr_tr, rfr_tr],\n",
    "                         'Test Score':[dTree_ts, gbr_ts, rfr_ts]\n",
    "                         })\n",
    "score_res"
   ]
  },
  {
   "cell_type": "code",
   "execution_count": null,
   "metadata": {},
   "outputs": [],
   "source": []
  }
 ],
 "metadata": {
  "kernelspec": {
   "display_name": "Python 3",
   "language": "python",
   "name": "python3"
  },
  "language_info": {
   "codemirror_mode": {
    "name": "ipython",
    "version": 3
   },
   "file_extension": ".py",
   "mimetype": "text/x-python",
   "name": "python",
   "nbconvert_exporter": "python",
   "pygments_lexer": "ipython3",
   "version": "3.8.5"
  }
 },
 "nbformat": 4,
 "nbformat_minor": 4
}
